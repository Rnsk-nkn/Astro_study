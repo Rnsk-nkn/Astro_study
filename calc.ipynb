{
 "cells": [
  {
   "cell_type": "code",
   "execution_count": 2,
   "metadata": {},
   "outputs": [],
   "source": [
    "#np.save('dataall_save', dataall)\n",
    "#%matplotlib nbagg\n",
    "%matplotlib inline\n",
    "import numpy as np\n",
    "import matplotlib.pyplot as plt\n",
    "import matplotlib.animation as animation\n",
    "import matplotlib as mpl\n",
    "import multiprocessing as mp\n",
    "from mpl_toolkits.mplot3d import Axes3D\n",
    "from matplotlib import gridspec"
   ]
  },
  {
   "cell_type": "code",
   "execution_count": null,
   "metadata": {},
   "outputs": [],
   "source": [
    "#include <iostream>\n",
    "#include <cmath>\n",
    "#include <cstdlib>\n",
    "#include <vector>\n",
    "using namespace std;\n",
    "double init(vector<double> &, vector<double> &, const double, const double\n",
    ", const int);\n",
    "int main(){\n",
    "const int n=257;\n",
    "vector<double> x(n),T(n),Tnew(n);\n",
    "const double xleft=-8.0, xright=8.0;\n",
    "const double Tmax = init(x,T,xleft,xright,n); //格子点と初期温度分布設定\n",
    "const double dx = x[1]-x[0];\n",
    "\n",
    "cout << \"Nondimensional dt ?\" << endl;\n",
    "double cfln;\n",
    "cin >> cfln;\n",
    "const double kappa=1.0,dt = cfln*dx*dx/kappa; //mu からdt を決定\n",
    "const double tfinal=1.0;\n",
    "    \n",
    "for(double t=dt;t<tfinal;t+=dt){\n",
    "for(int i=1;i<n-1;i++){\n",
    "Tnew[i] = T[i] + cfln*(T[i+1]-2.0*T[i]+T[i-1]); //陽的に時間発展\n",
    "}\n",
    "for(int i=1;i<n-1;i++){\n",
    "T[i] = Tnew[i]; //時間発展後のT で置き換え\n",
    "}\n",
    "//cout << \"t=\" << t << endl; //時刻を出力する場合はコメントイン\n",
    "}\n",
    "return 0;\n",
    "}\n",
    "\n",
    "double init(vector<double> &x, vector<double> &T, const double xleft, const double xright, const int n)\n",
    "\n",
    "{\n",
    "const double h = (xright-xleft) / double(n-1);\n",
    "const double Tmax = 1.0/h; //delta function の規格化(面積=1) に\n",
    "for(int i=0;i<n;i++){\n",
    "x[i] = xleft + h*double(i);\n",
    "if(i==(n-1)/2){T[i]=Tmax;}\n",
    "else{T[i]=0.0;}\n",
    "}\n",
    "return Tmax;\n",
    "}"
   ]
  },
  {
   "cell_type": "code",
   "execution_count": null,
   "metadata": {},
   "outputs": [
    {
     "data": {
      "image/png": "[encoded data removed]",
      "text/plain": [
       "<Figure size 432x288 with 1 Axes>"
      ]
     },
     "metadata": {
      "needs_background": "light"
     },
     "output_type": "display_data"
    },
    {
     "name": "stdout",
     "output_type": "stream",
     "text": [
      "0.0019140625\n"
     ]
    }
   ],
   "source": [
    "import numpy as np\n",
    "n=257\n",
    "x=np.zeros(n)\n",
    "T=np.zeros(n)\n",
    "Tnew=np.zeros(n)\n",
    "xleft=-8.0 \n",
    "xright=8.0\n",
    "def init(x,T,xleft,xright,n):\n",
    "    h = (xright-xleft) / (n-1)\n",
    "    Tmax = 1.0/h\n",
    "    for i in range(n):\n",
    "        x[i] = xleft + h*i\n",
    "        if(i==(n-1)/2):\n",
    "            T[i]=Tmax\n",
    "        else:\n",
    "            T[i]=0.0\n",
    "    return Tmax\n",
    "\n",
    "Tmax = init(x,T,xleft,xright,n)#格子点と初期温度分布設定\n",
    "#print(Tmax)\n",
    "dx = x[1]-x[0]\n",
    "plt.plot(x,T)\n",
    "plt.show()\n",
    "\n",
    "cfln=0.49\n",
    "kappa=1.0\n",
    "dt = cfln*dx*dx/kappa #mu からdt を決定 mu=0.49\n",
    "print(dt)\n",
    "#tfinal=1.0\n",
    "tfinal=0.01\n",
    "t=dt\n",
    "while t<tfinal:\n",
    "    for i in range(n-2):\n",
    "        i=i+1\n",
    "        Tnew[i] = T[i] + cfln*(T[i+1]-2.0*T[i]+T[i-1])\n",
    "        T[i] = Tnew[i]\n",
    "    plt.plot(x,T)\n",
    "\n",
    "plt.show()\n",
    "\n",
    "\n",
    "    \n",
    "    \n"
   ]
  },
  {
   "cell_type": "code",
   "execution_count": null,
   "metadata": {},
   "outputs": [],
   "source": []
  }
 ],
 "metadata": {
  "kernelspec": {
   "display_name": "Python 3",
   "language": "python",
   "name": "python3"
  },
  "language_info": {
   "codemirror_mode": {
    "name": "ipython",
    "version": 3
   },
   "file_extension": ".py",
   "mimetype": "text/x-python",
   "name": "python",
   "nbconvert_exporter": "python",
   "pygments_lexer": "ipython3",
   "version": "3.8.3"
  }
 },
 "nbformat": 4,
 "nbformat_minor": 4
}
