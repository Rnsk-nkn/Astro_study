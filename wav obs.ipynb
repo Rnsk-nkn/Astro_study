{
 "cells": [
  {
   "cell_type": "code",
   "execution_count": 1,
   "metadata": {},
   "outputs": [
    {
     "name": "stdout",
     "output_type": "stream",
     "text": [
      "start!\n",
      "[1. 1. 1. 1. 1. 1. 1. 1. 1. 1. 1. 1. 1. 1. 1. 1. 1. 1. 1. 1.]\n",
      "[]\n",
      "end\n",
      "end2\n"
     ]
    }
   ],
   "source": [
    "%matplotlib nbagg\n",
    "#%matplotlib inline\n",
    "import numpy as np\n",
    "import matplotlib.pyplot as plt\n",
    "import matplotlib.animation as animation\n",
    "print(\"start!\")\n",
    "\n",
    "rnorm=np.ones(20)\n",
    "print (rnorm)\n",
    "\n",
    "ims = []\n",
    "dataall=[]\n",
    "print(dataall)\n",
    "dataall=np.zeros((4000, 2409))\n",
    "N = 2409  # 1レコード番号あたりに格納されているデータの数。\n",
    "M = 4000  # レコードの総数。\n",
    "numb=1\n",
    "#print(dataall.shape)\n",
    "print(\"end\")\n",
    "import matplotlib as mpl\n",
    "import matplotlib.pyplot as plt\n",
    "import numpy as np\n",
    "import multiprocessing as mp\n",
    "from mpl_toolkits.mplot3d import Axes3D\n",
    "import matplotlib.animation as animation\n",
    "from matplotlib import gridspec\n",
    "from astropy.modeling.models import BlackBody1D\n",
    "from astropy.modeling.blackbody import FLAM\n",
    "from astropy import units as u\n",
    "from astropy.visualization import quantity_support\n",
    "from astropy.modeling.blackbody import blackbody_lambda\n",
    "print(\"end2\")\n",
    "\n",
    "box_size_xmin = 1e-01\n",
    "box_size_xmax = 1e+04\n",
    "box_size_ymin = 1e-06\n",
    "box_size_ymin = 1e-20\n",
    "box_size_ymax = 1e+02\n",
    "pis=np.pi*2*1.04e-15*1e+4\n",
    "wav = np.logspace(3,8,30) * u.AA\n",
    "fluxtest = blackbody_lambda(wav[1], 1000*u.K)*wav[1]\n",
    "#wavobs=(0.44e-23*3e14/(wav))* u.AA*fluxtest.unit\n",
    "wavobs=(0.44e-23*3e22/(wav))* u.AA*fluxtest.unit\n",
    "cmap=plt.get_cmap(\"tab10\")\n",
    "obs=np.array([8,9,10,11,12,15,17,20,22])\n",
    "lifetime=np.ones((30, 10,8))\n",
    "\n",
    "class Init:\n",
    "  def __init__(self, i):\n",
    "    plt.xscale('log')\n",
    "    plt.yscale('log')\n",
    "    plt.xlim(box_size_xmin, box_size_xmax)\n",
    "    plt.ylim(box_size_ymin, box_size_ymax)\n",
    "    plt.title('SED', fontsize=18)    \n",
    "\n",
    "    plt.text(100,0.1, \"t=%.1f\"%(i*0.1)+\"Myr\", fontsize=18)\n",
    "    mpl.rcParams['axes.xmargin'] = 0\n",
    "    mpl.rcParams['axes.ymargin'] = 0\n",
    "    plt.tight_layout()\n",
    "cmap=plt.get_cmap(\"tab10\")\n",
    "limK=5\n",
    "limKhigh=150\n",
    "limKmid=50\n",
    "limKlow=10\n",
    "\n"
   ]
  },
  {
   "cell_type": "code",
   "execution_count": 2,
   "metadata": {},
   "outputs": [
    {
     "name": "stdout",
     "output_type": "stream",
     "text": [
      "[1.32000000e-04 8.87483195e-05 5.96686683e-05 4.01173790e-05\n",
      " 2.69723483e-05 1.81344741e-05 1.21924553e-05 8.19742363e-06\n",
      " 5.51142100e-06 3.70552539e-06 2.49135721e-06 1.67502852e-06\n",
      " 1.12618157e-06 7.57172131e-07 5.09073896e-07 3.42268581e-07\n",
      " 2.30119405e-07 1.54717503e-07 1.04022109e-07 6.99377832e-08\n",
      " 4.70216722e-08 3.16143514e-08 2.12554588e-08 1.42908049e-08\n",
      " 9.60821907e-09 6.45994921e-09 4.34325482e-09 2.92012550e-09\n",
      " 1.96330478e-09 1.32000000e-09] erg / (cm2 s sr)\n"
     ]
    }
   ],
   "source": [
    "print(wavobs)"
   ]
  },
  {
   "cell_type": "code",
   "execution_count": 4,
   "metadata": {},
   "outputs": [
    {
     "name": "stdout",
     "output_type": "stream",
     "text": [
      "23950.26619987486 Angstrom 5.511420996259729e-06 erg / (cm2 s sr)\n",
      "35622.47890262444 Angstrom 3.7055253892023524e-06 erg / (cm2 s sr)\n",
      "52983.16906283713 Angstrom 2.4913572052183266e-06 erg / (cm2 s sr)\n",
      "78804.62815669904 Angstrom 1.6750285241816591e-06 erg / (cm2 s sr)\n",
      "117210.22975334793 Angstrom 1.1261815651908116e-06 erg / (cm2 s sr)\n",
      "385662.04211634723 Angstrom 3.4226858125741606e-07 erg / (cm2 s sr)\n",
      "853167.8524172815 Angstrom 1.5471750327441927e-07 erg / (cm2 s sr)\n",
      "2807216.2039411813 Angstrom 4.702167215146417e-08 erg / (cm2 s sr)\n",
      "6210169.418915616 Angstrom 2.1255458763804398e-08 erg / (cm2 s sr)\n"
     ]
    }
   ],
   "source": [
    " for k in obs:\n",
    "                print(wav[k],wavobs[k])"
   ]
  },
  {
   "cell_type": "code",
   "execution_count": 8,
   "metadata": {},
   "outputs": [
    {
     "name": "stdout",
     "output_type": "stream",
     "text": [
      "2.395026619987486 Angstrom 5.511420996259729e-06 erg / (cm2 s sr)\n",
      "3.562247890262444 Angstrom 3.7055253892023524e-06 erg / (cm2 s sr)\n",
      "5.298316906283713 Angstrom 2.4913572052183266e-06 erg / (cm2 s sr)\n",
      "7.880462815669904 Angstrom 1.6750285241816591e-06 erg / (cm2 s sr)\n",
      "11.721022975334792 Angstrom 1.1261815651908116e-06 erg / (cm2 s sr)\n",
      "38.56620421163473 Angstrom 3.4226858125741606e-07 erg / (cm2 s sr)\n",
      "85.31678524172814 Angstrom 1.5471750327441927e-07 erg / (cm2 s sr)\n",
      "280.72162039411813 Angstrom 4.702167215146417e-08 erg / (cm2 s sr)\n",
      "621.0169418915616 Angstrom 2.1255458763804398e-08 erg / (cm2 s sr)\n"
     ]
    }
   ],
   "source": [
    "wav = np.logspace(3,8,30) * u.AA\n",
    "wavobs=(0.44e-23*3e22/(wav))* u.AA*fluxtest.unit\n",
    "for k in obs:\n",
    "                print(wav[k]/10000,wavobs[k])"
   ]
  },
  {
   "cell_type": "code",
   "execution_count": 7,
   "metadata": {},
   "outputs": [
    {
     "name": "stdout",
     "output_type": "stream",
     "text": [
      "1.2689610031679235 Angstrom 1.0402210916684274e-05 erg / (cm2 s sr)\n",
      "1.7433288221999872 Angstrom 7.57172131379226e-06 erg / (cm2 s sr)\n",
      "2.395026619987486 Angstrom 5.511420996259729e-06 erg / (cm2 s sr)\n",
      "3.2903445623126713 Angstrom 4.011737904653418e-06 erg / (cm2 s sr)\n",
      "4.520353656360241 Angstrom 2.9201255042129945e-06 erg / (cm2 s sr)\n",
      "11.721022975334792 Angstrom 1.1261815651908116e-06 erg / (cm2 s sr)\n",
      "22.1221629107045 Angstrom 5.966866826395518e-07 erg / (cm2 s sr)\n",
      "57.361525104486816 Angstrom 2.3011940453039833e-07 erg / (cm2 s sr)\n",
      "108.26367338740542 Angstrom 1.21924553148735e-07 erg / (cm2 s sr)\n"
     ]
    }
   ],
   "source": [
    "wav = np.logspace(3,7,30) * u.AA\n",
    "wavobs=(0.44e-23*3e22/(wav))* u.AA*fluxtest.unit\n",
    "for k in obs:\n",
    "                print(wav[k]/10000,wavobs[k])"
   ]
  },
  {
   "cell_type": "code",
   "execution_count": 16,
   "metadata": {},
   "outputs": [
    {
     "name": "stdout",
     "output_type": "stream",
     "text": [
      "[1.00000000e-01 1.37382380e-01 1.88739182e-01 2.59294380e-01\n",
      " 3.56224789e-01 4.89390092e-01 6.72335754e-01 9.23670857e-01\n",
      " 1.26896100e+00 1.74332882e+00 2.39502662e+00 3.29034456e+00\n",
      " 4.52035366e+00 6.21016942e+00 8.53167852e+00 1.17210230e+01\n",
      " 1.61026203e+01 2.21221629e+01 3.03919538e+01 4.17531894e+01\n",
      " 5.73615251e+01 7.88046282e+01 1.08263673e+02 1.48735211e+02\n",
      " 2.04335972e+02 2.80721620e+02 3.85662042e+02 5.29831691e+02\n",
      " 7.27895384e+02 1.00000000e+03] Angstrom\n",
      "2.395026619987486 Angstrom 1.2689610031679235 Angstrom\n",
      "3.562247890262444 Angstrom 1.7433288221999872 Angstrom\n",
      "5.298316906283713 Angstrom 2.395026619987486 Angstrom\n",
      "7.880462815669904 Angstrom 3.2903445623126713 Angstrom\n",
      "11.721022975334792 Angstrom 4.520353656360241 Angstrom\n",
      "38.56620421163473 Angstrom 11.721022975334792 Angstrom\n",
      "85.31678524172814 Angstrom 22.1221629107045 Angstrom\n",
      "280.72162039411813 Angstrom 57.361525104486816 Angstrom\n",
      "621.0169418915616 Angstrom 108.26367338740542 Angstrom\n"
     ]
    }
   ],
   "source": [
    "wav1 = np.logspace(3,8,30) * u.AA\n",
    "wav2 = np.logspace(3,7,30) * u.AA\n",
    "print(wav2/10000)\n",
    "\n",
    "obs=np.array([8,9,10,11,12,15,17,20,22])\n",
    "\n",
    "obs=np.array([8,9,10,11,12,15,17,20,22])\n",
    "for k in obs:\n",
    "                print(wav1[k]/10000,wav2[k]/10000)"
   ]
  },
  {
   "cell_type": "code",
   "execution_count": 43,
   "metadata": {},
   "outputs": [
    {
     "name": "stdout",
     "output_type": "stream",
     "text": [
      "[1.00000000e-01 1.26485522e-01 1.59985872e-01 2.02358965e-01\n",
      " 2.55954792e-01 3.23745754e-01 4.09491506e-01 5.17947468e-01\n",
      " 6.55128557e-01 8.28642773e-01 1.04811313e+00 1.32571137e+00\n",
      " 1.67683294e+00 2.12095089e+00 2.68269580e+00 3.39322177e+00\n",
      " 4.29193426e+00 5.42867544e+00 6.86648845e+00 8.68511374e+00\n",
      " 1.09854114e+01 1.38949549e+01 1.75751062e+01 2.22299648e+01\n",
      " 2.81176870e+01 3.55648031e+01 4.49843267e+01 5.68986603e+01\n",
      " 7.19685673e+01 9.10298178e+01 1.15139540e+02 1.45634848e+02\n",
      " 1.84206997e+02 2.32995181e+02 2.94705170e+02 3.72759372e+02\n",
      " 4.71486636e+02 5.96362332e+02 7.54312006e+02 9.54095476e+02\n",
      " 1.20679264e+03 1.52641797e+03 1.93069773e+03 2.44205309e+03\n",
      " 3.08884360e+03 3.90693994e+03 4.94171336e+03 6.25055193e+03\n",
      " 7.90604321e+03 1.00000000e+04]\n",
      "11\n",
      "12\n",
      "13\n",
      "16\n",
      "17\n",
      "21\n",
      "23\n",
      "28\n",
      "29\n",
      "1.325711365590111\n",
      "1.6768329368110098\n",
      "2.1209508879201926\n",
      "4.291934260128778\n",
      "5.428675439323859\n",
      "13.89495494373136\n",
      "22.229964825261955\n",
      "71.96856730011528\n",
      "91.02981779915227\n"
     ]
    }
   ],
   "source": [
    "wav1 = np.logspace(3,8,50)\n",
    "print(wav1/10000)\n",
    "\n",
    "obsa=np.array([1.2,1.6,2.1,3.4,4.6,12,22,65,90])\n",
    "\n",
    "for k in obsa:\n",
    "                print(np.count_nonzero((wav1/10000)<k))\n",
    "obs=[11,12,13,16,17,21,23,28,29]\n",
    "for k in obs:\n",
    "                print(wav1[k]/10000)\n",
    "        "
   ]
  },
  {
   "cell_type": "code",
   "execution_count": 94,
   "metadata": {},
   "outputs": [
    {
     "name": "stdout",
     "output_type": "stream",
     "text": [
      "[   1.            1.30432139    1.70125428    2.21898234    2.89426612\n",
      "    3.77505321    4.92388263    6.42232542    8.3767764    10.92600861\n",
      "   14.2510267    18.58791891   24.24462017   31.6227766    41.24626383\n",
      "   53.79838403   70.17038287   91.52473109  119.37766417  155.70684048\n",
      "  203.09176209  264.89692876  345.51072946  450.65703377  587.80160723\n",
      "  766.68220745 1000.        ]\n",
      "1\n",
      "2\n",
      "3\n",
      "5\n",
      "6\n",
      "10\n",
      "12\n",
      "16\n",
      "17\n",
      "1.3043213867190042\n",
      "1.701254279852589\n",
      "2.2189823414589696\n",
      "3.7750532053243915\n",
      "4.923882631706742\n",
      "14.251026703029993\n",
      "24.244620170823307\n",
      "70.17038286703837\n",
      "91.52473108773893\n"
     ]
    }
   ],
   "source": [
    "wav1 = np.logspace(4,7,27)\n",
    "print(wav1/10000)\n",
    "\n",
    "obsa=np.array([1.2,1.6,2.1,3.4,4.6,12,22,65,90])\n",
    "\n",
    "for k in obsa:\n",
    "                print(np.count_nonzero((wav1/10000)<k))\n",
    "obs=[1,2,3,5,6,10,12,16,17]\n",
    "for k in obs:\n",
    "                print(wav1[k]/10000)"
   ]
  },
  {
   "cell_type": "code",
   "execution_count": null,
   "metadata": {},
   "outputs": [],
   "source": []
  }
 ],
 "metadata": {
  "kernelspec": {
   "display_name": "Python 3",
   "language": "python",
   "name": "python3"
  },
  "language_info": {
   "codemirror_mode": {
    "name": "ipython",
    "version": 3
   },
   "file_extension": ".py",
   "mimetype": "text/x-python",
   "name": "python",
   "nbconvert_exporter": "python",
   "pygments_lexer": "ipython3",
   "version": "3.6.5"
  }
 },
 "nbformat": 4,
 "nbformat_minor": 2
}
