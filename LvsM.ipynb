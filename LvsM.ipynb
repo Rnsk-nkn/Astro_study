{
 "cells": [
  {
   "cell_type": "code",
   "execution_count": null,
   "metadata": {},
   "outputs": [],
   "source": [
    "siess\n",
    "http://164.15.254.82/~siess/pmwiki/pmwiki.php?n=WWWTools.Isochrones\n",
    "    z=0.02\n",
    "    age=1.00E+06\n",
    "    siess"
   ]
  },
  {
   "cell_type": "code",
   "execution_count": null,
   "metadata": {},
   "outputs": [],
   "source": [
    "ST       L         R        Teff     Mass    Bol    BC     B-V    V-R    V-I    Mu     Mv     Mb     Mr     Mi     Mj     Mh     Mk     Ml  flag  check\n",
    "\n",
    " M6   8.559E-02  1.055E+00   2928.   0.100   7.42  -3.60   1.87   1.54   3.56  14.53  11.02  12.89   9.49   7.46   4.02   3.33   2.93   2.52   0     1\n",
    " M6   3.045E-01  1.832E+00   3075.   0.200   6.04  -2.96   1.72   1.35   3.13  12.30   9.01  10.72   7.65   5.88   2.88   2.23   1.86   1.51   0     0\n",
    " M5   6.887E-01  2.310E+00   3360.   0.300   5.15  -2.00   1.55   1.09   2.45  10.06   7.15   8.70   6.06   4.71   2.71   2.11   1.83   1.59   0     0\n",
    " M2   7.864E-01  2.156E+00   3594.   0.400   5.01  -1.46   1.50   0.96   2.03   9.17   6.47   7.96   5.51   4.44   3.16   2.50   2.29   2.12   0     0\n",
    " M1   9.288E-01  2.125E+00   3771.   0.500   4.83  -1.25   1.42   0.90   1.83   8.75   6.08   7.50   5.18   4.25   3.18   2.50   2.32   2.18   0     0\n",
    " M0   1.153E+00  2.199E+00   3909.   0.600   4.60  -1.08   1.36   0.86   1.69   8.30   5.68   7.04   4.82   3.99   3.03   2.36   2.20   2.07   0     0\n",
    " M0   1.720E+00  2.536E+00   4024.   0.700   4.16  -0.95   1.31   0.82   1.58   7.69   5.11   6.42   4.29   3.54   2.60   1.94   1.80   1.67   0     0\n",
    " K7   1.685E+00  2.390E+00   4125.   0.800   4.18  -0.84   1.26   0.79   1.48   7.52   5.03   6.29   4.24   3.54   2.66   2.01   1.88   1.76   0     0\n",
    " K6   1.993E+00  2.498E+00   4209.   0.900   4.00  -0.75   1.22   0.75   1.41   7.16   4.75   5.97   4.00   3.35   2.51   1.88   1.76   1.65   0     0\n",
    " K6   2.335E+00  2.615E+00   4278.   1.000   3.83  -0.68   1.18   0.73   1.35   6.83   4.51   5.70   3.79   3.17   2.34   1.72   1.60   1.49   0     0"
   ]
  },
  {
   "cell_type": "code",
   "execution_count": 1,
   "metadata": {},
   "outputs": [
    {
     "name": "stdout",
     "output_type": "stream",
     "text": [
      "[0.1 0.2 0.3 0.4 0.5 0.6 0.7 0.8 0.9 1. ] [0.09 0.3  0.69 0.79 0.93 1.15 1.72 1.69 1.99 2.34]\n",
      "[0.1500422  0.34156598 0.55266123 0.77756335 1.01332368 1.25811451\n",
      " 1.51067955 1.77009656 2.03565681 2.30679694] 2.306796944670293 1.1867959402518589\n"
     ]
    },
    {
     "data": {
      "image/png": "[encoded data removed]",
      "text/plain": [
       "<Figure size 432x288 with 1 Axes>"
      ]
     },
     "metadata": {
      "needs_background": "light"
     },
     "output_type": "display_data"
    }
   ],
   "source": [
    "from scipy.optimize import curve_fit  \n",
    "import numpy as np\n",
    "import matplotlib.pyplot as plt\n",
    "x_observed = [0.1,0.2,0.3,0.4,0.5,0.6,0.7,0.8,0.9,1.0]\n",
    "y_observed = [0.09,0.30,0.69,0.79,0.93,1.15,1.72,1.69,1.99,2.34]\n",
    "siess2=[0.08,0.24,0.27,0.36,0.49,0.62,0.87,0.96,1.14,1.35]\n",
    "Lold=[0.23399999999999999, 0.46799999999999997, 0.702, 0.9359999999999999, 1.17, 1.404, 1.638, 1.8719999999999999, 2.106, 2.34]\n",
    "Lold2=[0.0234, 0.0936, 0.21059999999999998, 0.3744, 0.585, 0.8423999999999999, 1.1465999999999998, 1.4976, 1.8954, 2.34]\n",
    "x_observed = np.array(x_observed)\n",
    "y_observed = np.array(y_observed)\n",
    "plt.cla()\n",
    "def func2(X, a, b, c): # 2次式近似\n",
    "    Y = a + b * X + c * X ** 2\n",
    "    return Y\n",
    "def func3(X, a): # 2次式近似\n",
    "    Y = a * X\n",
    "    return Y\n",
    "def func4(X, a,b): # 2次式近似\n",
    "    Y = a * X**b\n",
    "    return Y\n",
    "popt, pcov = curve_fit(func4,x_observed,y_observed) # poptは最適推定値、pcovは共分散\n",
    "popt\n",
    "print(x_observed,y_observed)\n",
    "plt.scatter(x_observed,y_observed,color=\"k\")\n",
    "#plt.scatter(x_observed,siess2,color=\"r\")\n",
    "#plt.plot(x_observed,func3(x_observed,popt[0]))\n",
    "#plt.plot(x_observed,func4(x_observed,popt[0],popt[1]),color=\"k\")\n",
    "###plt.plot(x_observed,Lold,color=\"r\")\n",
    "#plt.plot(x_observed,Lold2,color=\"g\")\n",
    "plt.xlabel(r'$M_\\ast\\,[M_\\odot]$', fontsize=18)\n",
    "plt.ylabel(r'$L_\\ast\\, [L_\\odot]$', fontsize=18)\n",
    "plt.xlim(0.09,1.1)\n",
    "plt.ylim(0.08, 3)\n",
    "plt.xscale('log')\n",
    "plt.yscale('log')\n",
    "#plt.text(0.12, 0.6,r'$L_\\ast\\propto M_\\ast^1$',color=\"r\" ,size=18)\n",
    "\n",
    "plt.tick_params(labelsize=18,left=True, right=True, bottom=True, top=True)\n",
    "#plt.yticks([1, 2, 3, 4, 5,6,7,8,9,10,20], [ \"1\", \"2\", \"3\", \"\", \"5\",\"\", \"\", \"\", \"\", \"10\", \"20\"])\n",
    "plt.xticks([0.1, 0.2, 0.3, 0.4, 0.5,0.6,0.7,0.8,0.9,1.0], [ \"0.1\", \"0.2\", \"0.3\", \"\", \"0.5\",\"\", \"\", \"\", \"\", \"1.0\"])\n",
    "plt.yticks([0.1, 0.2, 0.3, 0.4, 0.5,0.6,0.7,0.8,0.9,1.0,2], [ \"0.1\", \"0.2\", \"0.3\", \"\", \"0.5\",\"\", \"\", \"\", \"\", \"1.0\", \"2.0\"])\n",
    "\n",
    "plt.subplots_adjust(left=0.2, right=0.95, bottom=0.2, top=0.95)\n",
    "print(func4(x_observed,popt[0],popt[1]),popt[0],popt[1])\n",
    "#print(func4(x_observed,popt[0],popt[1]),popt[0],popt[1])\n",
    "plt.savefig('lvsm.jpg')"
   ]
  },
  {
   "cell_type": "code",
   "execution_count": null,
   "metadata": {},
   "outputs": [],
   "source": []
  }
 ],
 "metadata": {
  "kernelspec": {
   "display_name": "Python 3",
   "language": "python",
   "name": "python3"
  },
  "language_info": {
   "codemirror_mode": {
    "name": "ipython",
    "version": 3
   },
   "file_extension": ".py",
   "mimetype": "text/x-python",
   "name": "python",
   "nbconvert_exporter": "python",
   "pygments_lexer": "ipython3",
   "version": "3.8.3"
  }
 },
 "nbformat": 4,
 "nbformat_minor": 4
}
