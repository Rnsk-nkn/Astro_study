{
 "cells": [
  {
   "cell_type": "code",
   "execution_count": 4,
   "metadata": {
    "scrolled": true
   },
   "outputs": [
    {
     "name": "stdout",
     "output_type": "stream",
     "text": [
      "(432, 288)\n",
      "(432, 288)\n",
      "(432, 288)\n",
      "(432, 288)\n",
      "(432, 288)\n",
      "(432, 288)\n"
     ]
    }
   ],
   "source": [
    "from PIL import Image\n",
    "\n",
    "for i in range(6):\n",
    "    num=i+2\n",
    "    im1 = Image.open('SurDen'+str(num)+'timediff[1,10]date0110.jpg')\n",
    "    im2 = Image.open('T'+str(num)+'timediff[1,10]date0110.jpg')\n",
    "    print(im1.size)\n",
    "    im1 = im1.crop((0, 0, 432, 281))    \n",
    "    im2 = im2.crop((0, 12, 432, 288))\n",
    "    #im_crop = im.crop((60, 20, 400, 200))\n",
    "    def get_concat_h(im1, im2):\n",
    "        dst = Image.new('RGB', (im1.width + im2.width, im1.height))\n",
    "        dst.paste(im1, (0, 0))\n",
    "        dst.paste(im2, (im1.width, 0))\n",
    "        return dst\n",
    "\n",
    "    def get_concat_v(im1, im2):\n",
    "        dst = Image.new('RGB', (im1.width, im1.height + im2.height))\n",
    "        dst.paste(im1, (0, 0))\n",
    "        dst.paste(im2, (0, im1.height))\n",
    "        return dst\n",
    "\n",
    "    get_concat_v(im1, im2).save('v'+str(num)+'-1-1.jpg', quality=95)\n",
    "    "
   ]
  },
  {
   "cell_type": "code",
   "execution_count": 5,
   "metadata": {},
   "outputs": [
    {
     "name": "stdout",
     "output_type": "stream",
     "text": [
      "(432, 288)\n",
      "(432, 288)\n",
      "(432, 288)\n",
      "(432, 288)\n",
      "(432, 288)\n",
      "(432, 288)\n"
     ]
    }
   ],
   "source": [
    "from PIL import Image\n",
    "\n",
    "for i in range(6):\n",
    "    num=i+2\n",
    "    im1 = Image.open('Mdotevo'+str(num)+'.jpg')\n",
    "    im2 = Image.open('SED'+str(num)+'time[1,10]date0110.jpg')\n",
    "    #SED3time[1,10]date0110.jpg\n",
    "    print(im1.size)\n",
    "    im1 = im1.crop((0, 0, 432, 281))    \n",
    "    #im2 = im2.crop((0, 12, 432, 288)) \n",
    "    im2 = im2.crop((0, 0, 432, 281))\n",
    "    #im_crop = im.crop((60, 20, 400, 200))\n",
    "    def get_concat_h(im1, im2):\n",
    "        dst = Image.new('RGB', (im1.width + im2.width, im1.height))\n",
    "        dst.paste(im1, (0, 0))\n",
    "        dst.paste(im2, (im1.width, 0))\n",
    "        return dst\n",
    "\n",
    "    def get_concat_v(im1, im2):\n",
    "        dst = Image.new('RGB', (im1.width, im1.height + im2.height))\n",
    "        dst.paste(im1, (0, 0))\n",
    "        dst.paste(im2, (0, im1.height))\n",
    "        return dst\n",
    "\n",
    "    get_concat_v(im1, im2).save('v'+str(num)+'-2-1.jpg', quality=95)"
   ]
  },
  {
   "cell_type": "code",
   "execution_count": 6,
   "metadata": {},
   "outputs": [
    {
     "name": "stdout",
     "output_type": "stream",
     "text": [
      "(432, 557)\n",
      "(432, 562)\n",
      "(432, 557)\n",
      "(432, 562)\n",
      "(432, 557)\n",
      "(432, 562)\n",
      "(432, 557)\n",
      "(432, 562)\n",
      "(432, 557)\n",
      "(432, 562)\n",
      "(432, 557)\n",
      "(432, 562)\n"
     ]
    }
   ],
   "source": [
    "from PIL import Image\n",
    "\n",
    "for i in range(6):\n",
    "    num=i+2\n",
    "    im1 = Image.open('v'+str(num)+'-1-1.jpg')\n",
    "    im2 = Image.open('v'+str(num)+'-2-1.jpg')\n",
    "    print(im1.size)\n",
    "    print(im2.size)\n",
    "    \n",
    "    def get_concat_h_blank(im1, im2, color=(256, 256, 256)):\n",
    "        dst = Image.new('RGB', (im1.width + im2.width, max(im1.height, im2.height)), color)\n",
    "        dst.paste(im1, (0, 0))\n",
    "        dst.paste(im2, (im1.width, 0))\n",
    "        return dst\n",
    "    \n",
    "    get_concat_h_blank(im1, im2).save('v'+str(num)+'-40113-2.jpg', quality=95)"
   ]
  },
  {
   "cell_type": "code",
   "execution_count": null,
   "metadata": {},
   "outputs": [],
   "source": []
  }
 ],
 "metadata": {
  "kernelspec": {
   "display_name": "Python 3",
   "language": "python",
   "name": "python3"
  },
  "language_info": {
   "codemirror_mode": {
    "name": "ipython",
    "version": 3
   },
   "file_extension": ".py",
   "mimetype": "text/x-python",
   "name": "python",
   "nbconvert_exporter": "python",
   "pygments_lexer": "ipython3",
   "version": "3.8.3"
  }
 },
 "nbformat": 4,
 "nbformat_minor": 4
}
