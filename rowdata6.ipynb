{
 "cells": [
  {
   "cell_type": "code",
   "execution_count": 36,
   "metadata": {},
   "outputs": [
    {
     "name": "stdout",
     "output_type": "stream",
     "text": [
      "start!\n",
      "[]\n",
      "./glbdsk_str000M01.dat\n",
      "./glbdsk_str000M02.dat\n",
      "./glbdsk_str000M03.dat\n",
      "./glbdsk_str000M04.dat\n",
      "./glbdsk_str000M05.dat\n",
      "./glbdsk_str000M06.dat\n",
      "./glbdsk_str000M07.dat\n",
      "./glbdsk_str000M08.dat\n",
      "./glbdsk_str000M09.dat\n",
      "./glbdsk_str000M10.dat\n",
      "./glbdsk_str001M01.dat\n",
      "./glbdsk_str001M02.dat\n",
      "./glbdsk_str001M03.dat\n",
      "./glbdsk_str001M04.dat\n",
      "./glbdsk_str001M05.dat\n",
      "./glbdsk_str001M06.dat\n",
      "./glbdsk_str001M07.dat\n",
      "./glbdsk_str001M08.dat\n",
      "./glbdsk_str001M09.dat\n",
      "./glbdsk_str001M10.dat\n",
      "./glbdsk_str010M01.dat\n",
      "./glbdsk_str010M02.dat\n",
      "./glbdsk_str010M03.dat\n",
      "./glbdsk_str010M04.dat\n",
      "./glbdsk_str010M05.dat\n",
      "./glbdsk_str010M06.dat\n",
      "./glbdsk_str010M07.dat\n",
      "./glbdsk_str010M08.dat\n",
      "./glbdsk_str010M09.dat\n",
      "./glbdsk_str010M10.dat\n",
      "./glbdsk_str011M01.dat\n",
      "./glbdsk_str011M02.dat\n",
      "./glbdsk_str011M03.dat\n",
      "./glbdsk_str011M04.dat\n",
      "./glbdsk_str011M05.dat\n",
      "./glbdsk_str011M06.dat\n",
      "./glbdsk_str011M07.dat\n",
      "./glbdsk_str011M08.dat\n",
      "./glbdsk_str011M09.dat\n",
      "./glbdsk_str011M10.dat\n",
      "./glbdsk_str100M01.dat\n",
      "./glbdsk_str100M02.dat\n",
      "./glbdsk_str100M03.dat\n",
      "./glbdsk_str100M04.dat\n",
      "./glbdsk_str100M05.dat\n",
      "./glbdsk_str100M06.dat\n",
      "./glbdsk_str100M07.dat\n",
      "./glbdsk_str100M08.dat\n",
      "./glbdsk_str100M09.dat\n",
      "./glbdsk_str100M10.dat\n",
      "./glbdsk_str101M01.dat\n",
      "./glbdsk_str101M02.dat\n",
      "./glbdsk_str101M03.dat\n",
      "./glbdsk_str101M04.dat\n",
      "./glbdsk_str101M05.dat\n",
      "./glbdsk_str101M06.dat\n",
      "./glbdsk_str101M07.dat\n",
      "./glbdsk_str101M08.dat\n",
      "./glbdsk_str101M09.dat\n",
      "./glbdsk_str101M10.dat\n",
      "./glbdsk_str110M01.dat\n",
      "./glbdsk_str110M02.dat\n",
      "./glbdsk_str110M03.dat\n",
      "./glbdsk_str110M04.dat\n",
      "./glbdsk_str110M05.dat\n",
      "./glbdsk_str110M06.dat\n",
      "./glbdsk_str110M07.dat\n",
      "./glbdsk_str110M08.dat\n",
      "./glbdsk_str110M09.dat\n",
      "./glbdsk_str110M10.dat\n",
      "./glbdsk_str111M01.dat\n",
      "./glbdsk_str111M02.dat\n",
      "./glbdsk_str111M03.dat\n",
      "./glbdsk_str111M04.dat\n",
      "./glbdsk_str111M05.dat\n",
      "./glbdsk_str111M06.dat\n",
      "./glbdsk_str111M07.dat\n",
      "./glbdsk_str111M08.dat\n",
      "./glbdsk_str111M09.dat\n",
      "./glbdsk_str111M10.dat\n",
      "end\n"
     ]
    }
   ],
   "source": [
    "#%matplotlib nbagg\n",
    "%matplotlib inline\n",
    "import numpy as np\n",
    "import matplotlib.pyplot as plt\n",
    "import matplotlib.animation as animation\n",
    "print(\"start!\")\n",
    "ims = []\n",
    "dataall=[]\n",
    "print(dataall)\n",
    "N = 2409  # 1レコード番号あたりに格納されているデータの数。1+301*8\n",
    "#N = 3312  # 1レコード番号あたりに格納されているデータの数。1+301*8\n",
    "M =4000  # レコードの総数。\n",
    "dataall=np.zeros((M, N))\n",
    "numb=1\n",
    "for i in range(8):#cond all\n",
    "#for i in [6]:#cond test 01 23 45 67\n",
    "    fol=format(i, '03b')#cond ->3keta\n",
    "    for j in range(10):#mass all\n",
    "    #for j in range(1):#mass test\n",
    "        numb+=1\n",
    "        mass=\"{0:02d}\".format(j+1)#masss->2keta\n",
    "        fname='./glbdsk_str'+fol+\"M\"+mass+'.dat'\n",
    "        print(fname)\n",
    "        f = open(fname, 'r')\n",
    "        dty = np.dtype([('data', '<' + str(N) + 'f')])\n",
    "        chunk = np.fromfile(f, dtype=dty, count=M)\n",
    "        #print(chunk.shape)\n",
    "        data = []\n",
    "        for k in range(M):\n",
    "            #print(k)\n",
    "            data.append(chunk[k]['data'])\n",
    "        data=np.array(data)\n",
    "        dataall=np.dstack((dataall, data))\n",
    "print(\"end\")\n",
    "np.save('dataall_50-all5', dataall)"
   ]
  },
  {
   "cell_type": "code",
   "execution_count": 37,
   "metadata": {},
   "outputs": [],
   "source": [
    "#np.save('dataall_save', dataall)\n",
    "#%matplotlib nbagg\n",
    "%matplotlib inline\n",
    "import numpy as np\n",
    "import matplotlib.pyplot as plt\n",
    "import matplotlib.animation as animation\n",
    "import matplotlib as mpl\n",
    "import multiprocessing as mp\n",
    "from mpl_toolkits.mplot3d import Axes3D\n",
    "from matplotlib import gridspec\n",
    "#dataall=np.load('dataall_500-4.npy')\n",
    "import matplotlib.cm as cm\n",
    "\n",
    "#dataall=np.load('dataall_50-all1.npy')\n",
    "\n",
    "dataall=np.load('dataall_50-all5.npy')"
   ]
  },
  {
   "cell_type": "code",
   "execution_count": 38,
   "metadata": {},
   "outputs": [
    {
     "name": "stdout",
     "output_type": "stream",
     "text": [
      "-0.0955120399594307\n"
     ]
    }
   ],
   "source": [
    "M=0\n",
    "cond=0\n",
    "k=M+1+(cond*10)\n",
    "r=5\n",
    "test=1506\n",
    "time=298\n",
    "print(dataall[r,test+time,k])"
   ]
  },
  {
   "cell_type": "code",
   "execution_count": 39,
   "metadata": {},
   "outputs": [
    {
     "name": "stdout",
     "output_type": "stream",
     "text": [
      "0\n",
      "0\n",
      "0\n",
      "0\n",
      "0\n",
      "0\n",
      "0\n",
      "0\n",
      "0\n",
      "0\n"
     ]
    },
    {
     "data": {
      "image/png": "[encoded data removed]",
      "text/plain": [
       "<Figure size 432x288 with 1 Axes>"
      ]
     },
     "metadata": {
      "needs_background": "light"
     },
     "output_type": "display_data"
    }
   ],
   "source": [
    "plt.cla()\n",
    "for test in [1]:\n",
    "    for cond in [2]:#01234567:\n",
    "    #for cond in range(8):#01234567:\n",
    "        for time in range(10):\n",
    "        #for time in range(1):\n",
    "            time=30*time\n",
    "            for i in range(1):\n",
    "                for M in [0]:\n",
    "                #for M in range(10):\n",
    "                    k=M+1+(cond*10)#all\n",
    "                    #k=M+1+(cond*1)#M01test\n",
    "                    pltdat=dataall[:,:,k]\n",
    "                    x = []\n",
    "                    y = []\n",
    "                    x.extend(pltdat[:,0])\n",
    "                    y.extend(pltdat[:,test+time])\n",
    "                    plt.plot(x, y,linewidth = 0.9)\n",
    "                    plt.xscale('log')\n",
    "                    plt.yscale('log')\n",
    "                    #plt.xlim(0.001, 0.04)\n",
    "                    #plt.xlim(1, 1.2)\n",
    "                    #plt.ylim(1e-6, 0.1)\n",
    "                    #plt.ylim(1e-2, 0.1)\n",
    "                    print(M)\n",
    "                    #plt.show()\n",
    "    plt.show()"
   ]
  },
  {
   "cell_type": "code",
   "execution_count": 40,
   "metadata": {},
   "outputs": [
    {
     "name": "stdout",
     "output_type": "stream",
     "text": [
      "0 0.0016\n",
      "1 0.0042250000000000005\n",
      "2 0.0081\n",
      "3 0.013225000000000004\n",
      "4 0.019600000000000003\n",
      "5 0.027225000000000003\n",
      "6 0.036100000000000014\n",
      "7 0.04622500000000001\n",
      "8 0.05760000000000001\n",
      "9 0.07022500000000001\n",
      "10 0.0841\n",
      "11 0.09922500000000001\n",
      "12 0.11560000000000002\n",
      "13 0.13322499999999998\n",
      "14 0.1521\n",
      "15 0.172225\n",
      "16 0.1936\n",
      "17 0.21622500000000003\n",
      "18 0.24009999999999998\n",
      "19 0.265225\n",
      "20 0.2916\n",
      "21 0.3192250000000001\n",
      "22 0.3481000000000001\n",
      "23 0.37822500000000014\n",
      "24 0.4096000000000002\n",
      "25 0.44222500000000003\n",
      "26 0.4761000000000001\n",
      "27 0.5112250000000002\n",
      "28 0.5476000000000002\n",
      "29 0.5852250000000002\n",
      "30 0.6241000000000001\n",
      "31 0.6642250000000001\n",
      "32 0.7056000000000001\n",
      "33 0.7482250000000001\n",
      "34 0.7921000000000002\n",
      "35 0.8372250000000001\n",
      "36 0.8836000000000002\n",
      "37 0.9312250000000002\n",
      "38 0.9801000000000002\n",
      "39 1.0302250000000002\n"
     ]
    }
   ],
   "source": [
    "rin = 1.6e-3\n",
    "xin = 0.04\n",
    "dxi = 2.5e-2\n",
    "#for i in range(4000):\n",
    "for i in range(40):\n",
    "    print(i,(xin+dxi*i)**2)"
   ]
  },
  {
   "cell_type": "code",
   "execution_count": null,
   "metadata": {},
   "outputs": [],
   "source": []
  },
  {
   "cell_type": "code",
   "execution_count": null,
   "metadata": {},
   "outputs": [],
   "source": []
  }
 ],
 "metadata": {
  "kernelspec": {
   "display_name": "Python 3",
   "language": "python",
   "name": "python3"
  },
  "language_info": {
   "codemirror_mode": {
    "name": "ipython",
    "version": 3
   },
   "file_extension": ".py",
   "mimetype": "text/x-python",
   "name": "python",
   "nbconvert_exporter": "python",
   "pygments_lexer": "ipython3",
   "version": "3.8.3"
  }
 },
 "nbformat": 4,
 "nbformat_minor": 4
}
