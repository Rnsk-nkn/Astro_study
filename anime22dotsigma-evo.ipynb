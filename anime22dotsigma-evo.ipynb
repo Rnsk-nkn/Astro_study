{
 "cells": [
  {
   "cell_type": "code",
   "execution_count": 1,
   "metadata": {
    "scrolled": false
   },
   "outputs": [
    {
     "name": "stdout",
     "output_type": "stream",
     "text": [
      "start!\n",
      "[1. 1. 1. 1. 1. 1. 1. 1. 1. 1. 1. 1. 1. 1. 1. 1. 1. 1. 1. 1.]\n",
      "[]\n",
      "./glbdsk_str000M08.dat 9\n",
      "./glbdsk_str001M08.dat 19\n",
      "./glbdsk_str010M08.dat 29\n",
      "./glbdsk_str011M08.dat 39\n",
      "./glbdsk_str100M08.dat 49\n",
      "./glbdsk_str101M08.dat 59\n",
      "./glbdsk_str110M08.dat 69\n",
      "./glbdsk_str111M08.dat 79\n",
      "end\n"
     ]
    }
   ],
   "source": [
    "%matplotlib nbagg\n",
    "#%matplotlib inline\n",
    "import numpy as np\n",
    "import matplotlib.pyplot as plt\n",
    "import matplotlib.animation as animation\n",
    "print(\"start!\")\n",
    "\n",
    "rnorm=np.ones(20)\n",
    "print (rnorm)\n",
    "\n",
    "ims = []\n",
    "dataall=[]\n",
    "print(dataall)\n",
    "dataall=np.zeros((4000, 2409))\n",
    "N = 2409  # 1レコード番号あたりに格納されているデータの数。\n",
    "M = 4000  # レコードの総数。\n",
    "numb=1\n",
    "for i in range(8):\n",
    "    fol=format(i, '03b')\n",
    "    for j in range(10):\n",
    "        numb+=1\n",
    "        mass=\"{0:02d}\".format(j+1)\n",
    "        fname='./glbdsk_str'+fol+\"M\"+mass+'.dat'\n",
    "        f = open(fname, 'r')\n",
    "        dty = np.dtype([('data', '<' + str(N) + 'f')])\n",
    "        chunk = np.fromfile(f, dtype=dty, count=M)\n",
    "        data = []\n",
    "        for k in range(M):\n",
    "            data.append(chunk[k]['data'])\n",
    "        data=np.array(data)\n",
    "        dataall=np.dstack((dataall, data))\n",
    "        if(j==7):\n",
    "            print(fname,numb)\n",
    "            #print(dataall.nbytes)\n",
    "#print(dataall.shape)\n",
    "print(\"end\")\n",
    "import matplotlib as mpl\n",
    "import matplotlib.pyplot as plt\n",
    "import numpy as np\n",
    "import multiprocessing as mp\n",
    "from mpl_toolkits.mplot3d import Axes3D\n",
    "import matplotlib.animation as animation\n",
    "from matplotlib import gridspec"
   ]
  },
  {
   "cell_type": "code",
   "execution_count": 2,
   "metadata": {},
   "outputs": [
    {
     "name": "stdout",
     "output_type": "stream",
     "text": [
      "1.0302250385284424\n"
     ]
    }
   ],
   "source": [
    "rhan=dataall[39,0,21]#au keisan  5=>0.027au   104 =>7au   39 =>1au  125=>10au 177=>20au  333=>70au   398=>100au      rcon\n",
    "print(rhan)"
   ]
  },
  {
   "cell_type": "code",
   "execution_count": 98,
   "metadata": {},
   "outputs": [
    {
     "data": {
      "image/png": "[encoded data removed]",
      "text/plain": [
       "<Figure size 432x288 with 1 Axes>"
      ]
     },
     "metadata": {
      "needs_background": "light"
     },
     "output_type": "display_data"
    }
   ],
   "source": [
    "%matplotlib inline\n",
    "#PE=[1.668e-10,4.965e-10,9.398e-10,1.478e-09,2.099e-09,2.797e-09,3.565e-09,4.399e-09,5.295e-09,6.25e-09]#0.027au\n",
    "#PE=[3.61e-15,4.965e-10,9.398e-10,1.478e-09,2.099e-09,2.797e-09,3.565e-09,4.399e-09,5.295e-09,1.59e-14]#100au\n",
    "#PE=[0,0,0,0,0,0,0,0,0,4.14e-11]#20au\n",
    "PE=[0,0,0,0,0,0,0,0,0,2.0e-12]#70au\n",
    "#PE=[4.58e-13,0,0,0,0,0,0,0,0,0]#7au\n",
    "for cond in range(8):\n",
    "    #plt.cla()\n",
    "    plt.xlim(0, 10)\n",
    "    #plt.ylim(5e-13, 5e-11)\n",
    "    plt.ylim(1e-15, 1e-13)\n",
    "    plt.xlabel(r'$time\\,[Myr]$', fontsize=18)\n",
    "    #plt.ylabel(r'$\\dot{\\Sigma}\\, [g\\,cm^{-2}yr^{-1}]$', fontsize=18)\n",
    "     #plt.ylabel(r'$\\.{\\Sigma}  \\,[M_\\odot yr^{-1} au^{-2}]$', fontsize=18)\n",
    "    plt.ylabel(r'${\\Sigma}  \\,[M_\\odot  au^{-2}]$', fontsize=18)\n",
    "    for ms in range(10):\n",
    "        k=1+ms+(cond*10)\n",
    "        pltdat=dataall[:,:,k]\n",
    "        T=(np.array(range(299)))/10 #time 0.1Myr\n",
    "        #rcon=5  #0.027au\n",
    "        #rcon=125 #10au\n",
    "        #rcon=104 #7au\n",
    "        #rcon=177 #20au\n",
    "        rcon=333 #70au\n",
    "        #rcon=398 #100au\n",
    "        #rcon=420 #100?au\n",
    "        kar=2*np.pi*dataall[rcon,0,21]*(dataall[rcon+1,0,21]-dataall[rcon-1,0,21])#kyoku ritu 2 pi r dr\n",
    "        #kar=dataall[rcon,0,21]-dataall[rcon-1,0,21]# dr\n",
    "        #print(kar,dataall[rcon,0,21],dataall[rcon,0,21]-dataall[rcon-1,0,21])\n",
    "        sigma=np.array(pltdat[rcon,2:301])\n",
    "        sigman=np.roll(sigma, -1)\n",
    "        trb=pltdat[rcon,604:903]\n",
    "        trbin=pltdat[rcon-1,604:903]\n",
    "        trbout=pltdat[rcon+1,604:903]\n",
    "        wnd=-pltdat[rcon,905:1204]\n",
    "        rvz=pltdat[rcon,1206:1505]\n",
    "        atrq=pltdat[rcon,1507:1806]\n",
    "        pgrf=pltdat[rcon,1808:2107]\n",
    "        dmz=pltdat[rcon,2109:2408]\n",
    "        #plt.plot(T,-trb,color=\"pink\")     #乱流粘性)\n",
    "        #plt.plot(T,wnd, color=\"green\")   #円盤風トルク\n",
    "        wid=(1+ms)/5\n",
    "        #mss=10/(1+ms)\n",
    "        mss=(1+ms)/10\n",
    "        taux=[30,4.5,15.8]\n",
    "        if cond ==3:#PEstrong #2:#PE #weak\n",
    "            #plt.plot(T,-trb+wnd, linewidth = wid, linestyle = \"dashed\",color='#8a2be2',label=r'$\\.{M}_r$ DW+PE')\n",
    "            #plt.plot(T,dmz, linewidth = wid,color='#8a2be2',label=r'$\\.{M}_z$ DW+PE')\n",
    "            if ms==0:\n",
    "                #plt.plot(T,(-trb)-(-trbin), linestyle = \"dashed\",color=\"k\",label=r'$\\.{M}_r$')\n",
    "                #plt.plot(T,(trb)-(trbin),color=\"k\",label=r'$\\.{M}_r$')\n",
    "                #plt.plot(T,(trb),color=\"k\",label=r'$\\.{M}_r$')\n",
    "                #plt.plot(T,(-trb), linestyle = \"dashed\",color=\"k\",label=r'$\\.{M}_r$') \n",
    "                #plt.plot(T,(trbin),color=\"r\",label=r'$\\.{M}_r$')\n",
    "                #plt.plot(T,(-trbin), linestyle = \"dashed\",color=\"r\",label=r'$\\.{M}_r$')     \n",
    "                \n",
    "                #plt.plot(T,sigma,color=\"r\",label=r'$\\.{M}_r$')  #sigam\n",
    "                '''plt.plot(T,((trb)-(trbin)),color=\"k\",label=r'$\\.{M}_r$',linestyle = \"dashed\")  #tamaru\n",
    "                plt.plot(T,-((trb)-(trbin)),color=\"k\",label=r'$\\.{M}_r$')  #deteku\n",
    "                #plt.hlines(PE[ms],1e-1,2.97e1, linestyle = \"dotted\",color=\"k\")\n",
    "                #plt.plot(T,(-trbin)-(-trb),color=\"b\",linestyle = \"dashed\",label=r'$\\.{M}_r$')   #detetku\n",
    "                \n",
    "                plt.plot(T,((trb)-(trbin))/kar,color=\"k\",label=r'$\\.{M}_r$')  #tamaru\n",
    "                plt.plot(T,-((trb)-(trbin))/kar,color=\"k\",label=r'$\\.{M}_r$',linestyle = \"dashed\")  #deteku\n",
    "                plt.hlines(PE[ms],1e-1,2.97e1, linestyle = \"dotted\",color=\"k\")\n",
    "                '''\n",
    "                #plt.plot(T,(dmz),color=\"k\",label=r'$\\.{M}_z$ DW')\n",
    "                #plt.hlines(PE[ms],1e-1,2.97e1, linestyle = \"dotted\",color=\"k\")\n",
    "                #plt.text(taux[0]*0.9,2.4e-9,r'$ \\tau_{\\mathrm{life}, 0.1M_\\odot}$', fontsize=18)\n",
    "                #plt.annotate('', fontsize=18, xy=[taux[0],3e-11], xytext=[taux[0],2e-9],arrowprops=dict(shrink=0, width=1, headwidth=8, headlength=10,connectionstyle='arc3',facecolor='k',edgecolor='k'))\n",
    "            '''if ms==2:\n",
    "                plt.plot(T,(trb+wnd), linestyle = \"dashed\",color=\"r\",label=r'$\\.{M}_r$')\n",
    "                plt.plot(T,(dmz)*mss,color=\"r\",label=r'$\\.{M}_z$ DW')\n",
    "                plt.hlines(PE[ms],1e-1,2.2e1, linestyle = \"dotted\",color=\"r\")\n",
    "                plt.text(taux[1]*0.9,1.5e-8,r'$ \\tau_{\\mathrm{life}, 0.3M_\\odot}$', fontsize=18)\n",
    "                plt.annotate('', fontsize=18, xy=[taux[1],1.2e-9], xytext=[taux[1],1.2e-8],arrowprops=dict(shrink=0, width=1, headwidth=8, headlength=10,connectionstyle='arc3',facecolor='r',edgecolor='r'))\n",
    "            '''\n",
    "            if ms==9:\n",
    "                #plt.plot(T[:300],(trb)[:300],color=\"b\",label=r'$\\.{M}_r$')\n",
    "                #plt.plot(T[:300],(-trb)[:300], linestyle = \"dashed\",color=\"b\",label=r'$\\.{M}_r$')   \n",
    "                #plt.plot(T[:300],(trbin)[:300],color=\"r\",label=r'$\\.{M}_r$')\n",
    "                #plt.plot(T[:300],(-trbin)[:300], linestyle = \"dashed\",color=\"r\",label=r'$\\.{M}_r$')      \n",
    "                #plt.plot(T[:300],(trbout)[:300],color=\"g\",label=r'$\\.{M}_r$')\n",
    "                #plt.plot(T[:300],(-trbout)[:300], linestyle = \"dashed\",color=\"g\",label=r'$\\.{M}_r$')   \n",
    "                #plt.plot(T[:300],(trb)[:300]+(-trbin)[:300],color=\"b\",label=r'$\\.{M}_r$')  #hairu\n",
    "                   \n",
    "                #plt.plot(T[:300],(trbin)[:300]-(trb)[:300],color=\"r\",label=r'$\\.{M}_r$')   \n",
    "                #plt.plot(T[:300],(trb)[:300]-(trbin)[:300],color=\"b\",label=r'$\\.{M}_r$')\n",
    "                #plt.plot(T[:300],(trb)[:300]-(trbin)[:300],color=\"b\",label=r'$\\.{M}_r$')  #hairu\n",
    "                #plt.plot(T[:300],((-trb)[:300]-(-trbin)[:300]), linestyle = \"dashed\",color=\"b\",label=r'$\\.{M}_r$')   #deteku\n",
    "                \n",
    "                #plt.plot(T[:60],(dmz[:60]),color=\"b\",label=r'$\\.{M}_z$ DW')\n",
    "                \n",
    "                #plt.plot(T,sigma,color=\"r\",label=r'$\\.{M}_r$')  #sigam\n",
    "                \n",
    "                plt.hlines(PE[ms]/kar,1e-1,30e0, linestyle = \"dotted\",color=\"b\")\n",
    "                #plt.plot(T,((trb)-(trbin)),color=\"b\",label=r'$\\.{M}_r$')  #tamaru\n",
    "                #plt.plot(T,-((trb)-(trbin)),color=\"b\",label=r'$\\.{M}_r$',linestyle = \"dashed\")  #deteku\n",
    "                \n",
    "                #plt.plot(T,((trb)-(trbin))/kar,color=\"b\",label=r'$\\.{M}_r$')  #tamaru\n",
    "                #plt.plot(T,-((trb)-(trbin))/kar,color=\"b\",label=r'$\\.{M}_r$',linestyle = \"dashed\")  #deteku\n",
    "                \n",
    "                #plt.plot(T,((trb)-(trbin)*0.7),color=\"b\",label=r'$\\.{M}_r$')  #tamaru\n",
    "                plt.plot(T,-((trbout)-(trb))/kar,color=\"b\",label=r'$\\.{M}_r$',linestyle = \"dashed\")  #deteku\n",
    "                #plt.plot(T,(sigman-sigma),color=\"k\",label=r'$\\.{M}_r$',linestyle = \"dashed\")  #deteku\n",
    "                #plt.plot(T,(sigma-sigman)/1e10,color=\"k\",label=r'$\\.{M}_r$')  #deteku\n",
    "                #plt.text(taux[2]*0.9,1.3e-7,r'$ \\tau_{\\mathrm{life}, 1.0M_\\odot}$', fontsize=18)\n",
    "                #plt.annotate('', fontsize=18, xy=[taux[2],3e-11], xytext=[taux[2],1e-7],arrowprops=dict(shrink=0, width=1, headwidth=8, headlength=10,connectionstyle='arc3',facecolor='b',edgecolor='b'))\n",
    "    #plt.xscale('log')\n",
    "    plt.yscale('log')\n",
    "    #plt.legend(bbox_to_anchor=(1.05, 1), loc='upper left', borderaxespad=0, fontsize=12)\n",
    "plt.show()"
   ]
  },
  {
   "cell_type": "code",
   "execution_count": 32,
   "metadata": {},
   "outputs": [
    {
     "data": {
      "text/plain": [
       "5.623413251903491"
      ]
     },
     "execution_count": 32,
     "metadata": {},
     "output_type": "execute_result"
    }
   ],
   "source": [
    "10**0.75"
   ]
  },
  {
   "cell_type": "code",
   "execution_count": 80,
   "metadata": {},
   "outputs": [
    {
     "data": {
      "text/plain": [
       "17.857142857142858"
      ]
     },
     "execution_count": 80,
     "metadata": {},
     "output_type": "execute_result"
    }
   ],
   "source": [
    "100/5.6"
   ]
  },
  {
   "cell_type": "code",
   "execution_count": null,
   "metadata": {},
   "outputs": [],
   "source": [
    "for cond in range(8): #DW 4\n",
    "    for ms in range(10):\n",
    "        k=1+ms+(cond*10)"
   ]
  },
  {
   "cell_type": "code",
   "execution_count": 84,
   "metadata": {},
   "outputs": [
    {
     "name": "stdout",
     "output_type": "stream",
     "text": [
      "6298.642578125\n"
     ]
    }
   ],
   "source": [
    "print(dataall[39,1,41]) #1au,5Myr,cond=k 0.1M DWweak"
   ]
  },
  {
   "cell_type": "code",
   "execution_count": 85,
   "metadata": {},
   "outputs": [
    {
     "name": "stdout",
     "output_type": "stream",
     "text": [
      "16087.748046875\n"
     ]
    }
   ],
   "source": [
    "print(dataall[39,1,50]) #1au,5Myr,cond=k 1.0M DWweak"
   ]
  },
  {
   "cell_type": "code",
   "execution_count": 102,
   "metadata": {},
   "outputs": [
    {
     "name": "stdout",
     "output_type": "stream",
     "text": [
      "0 1.0\n",
      "1 0.3915179775175864\n",
      "2 0.4374291900422554\n",
      "3 0.49564500928210825\n",
      "4 0.6194318255754399\n",
      "5 0.7733809254161758\n",
      "6 0.8550001095350984\n",
      "7 0.8751570035516639\n",
      "8 0.8667063026905677\n",
      "9 0.8458802781185468\n",
      "10 0.8181347434616505\n",
      "11 0.7859535653037254\n",
      "12 0.7518966331833775\n",
      "13 0.7165312770434171\n",
      "14 0.6803582679188769\n",
      "15 0.6445657420379535\n",
      "16 0.6082454834090644\n",
      "17 0.5736226937334835\n",
      "18 0.540258054639609\n",
      "19 0.5080907968386705\n",
      "20 0.47709371371104325\n",
      "21 0.44764610587888265\n",
      "22 0.4196269120517243\n",
      "23 0.3929455653694895\n",
      "24 0.36781815033025567\n",
      "25 0.3441062386968141\n",
      "26 0.32169872404661326\n",
      "27 0.30071668210993935\n",
      "28 0.28102538902538904\n",
      "29 0.2625133625177738\n",
      "30 0.2449461381117516\n",
      "31 0.22882555818042552\n",
      "32 0.21372351955863417\n",
      "33 0.19967368806689673\n",
      "34 0.18657048374928606\n",
      "35 0.17432422311598056\n",
      "36 0.16295055393878646\n",
      "37 0.1523602828174881\n",
      "38 0.14247713575389143\n",
      "39 0.13330709913837746\n",
      "40 0.12477625177502955\n",
      "41 0.11682105873974387\n",
      "42 0.1094427378724218\n",
      "43 0.10258078999868872\n",
      "44 0.09608375703504733\n",
      "45 0.09015659598585325\n",
      "46 0.08464322672144091\n",
      "47 0.07950132219059304\n",
      "48 0.07472950943109033\n",
      "49 0.07028833910820594\n"
     ]
    }
   ],
   "source": [
    "for time in range(50):\n",
    "    print(time,dataall[39,time,41]/dataall[39,time,50])"
   ]
  },
  {
   "cell_type": "code",
   "execution_count": null,
   "metadata": {},
   "outputs": [],
   "source": []
  }
 ],
 "metadata": {
  "kernelspec": {
   "display_name": "Python 3",
   "language": "python",
   "name": "python3"
  },
  "language_info": {
   "codemirror_mode": {
    "name": "ipython",
    "version": 3
   },
   "file_extension": ".py",
   "mimetype": "text/x-python",
   "name": "python",
   "nbconvert_exporter": "python",
   "pygments_lexer": "ipython3",
   "version": "3.8.3"
  }
 },
 "nbformat": 4,
 "nbformat_minor": 2
}
