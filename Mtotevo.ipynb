{
 "cells": [
  {
   "cell_type": "code",
   "execution_count": 5,
   "metadata": {},
   "outputs": [
    {
     "name": "stdout",
     "output_type": "stream",
     "text": [
      "start!\n",
      "[]\n",
      "end\n"
     ]
    }
   ],
   "source": [
    "#%matplotlib nbagg\n",
    "%matplotlib inline\n",
    "import numpy as np\n",
    "import matplotlib.pyplot as plt\n",
    "import matplotlib.animation as animation\n",
    "print(\"start!\")\n",
    "ims = []\n",
    "dataall=[]\n",
    "print(dataall)\n",
    "dataall=np.zeros((4000, 2409))\n",
    "N = 2409  # 1レコード番号あたりに格納されているデータの数。\n",
    "M = 4000  # レコードの総数。\n",
    "numb=1\n",
    "for i in range(8):\n",
    "    fol=format(i, '03b')\n",
    "    for j in range(10):\n",
    "        numb+=1\n",
    "        mass=\"{0:02d}\".format(j+1)\n",
    "        fname='./glbdsk_str'+fol+\"M\"+mass+'.dat'\n",
    "        f = open(fname, 'r')\n",
    "        dty = np.dtype([('data', '<' + str(N) + 'f')])\n",
    "        chunk = np.fromfile(f, dtype=dty, count=M)\n",
    "        data = []\n",
    "        for k in range(M):\n",
    "            data.append(chunk[k]['data'])\n",
    "        data=np.array(data)\n",
    "        dataall=np.dstack((dataall, data))\n",
    "print(\"end\")\n",
    "np.save('dataall_saverhoLd3', dataall)"
   ]
  },
  {
   "cell_type": "code",
   "execution_count": 6,
   "metadata": {},
   "outputs": [],
   "source": [
    "#np.save('dataall_save', dataall)\n",
    "#%matplotlib nbagg\n",
    "%matplotlib inline\n",
    "import numpy as np\n",
    "import matplotlib.pyplot as plt\n",
    "import matplotlib.animation as animation\n",
    "import matplotlib as mpl\n",
    "import multiprocessing as mp\n",
    "from mpl_toolkits.mplot3d import Axes3D\n",
    "from matplotlib import gridspec\n",
    "#dataall=np.load('dataall_save.npy')\n",
    "dataall=np.load('dataall_saverhoLd3.npy')\n"
   ]
  },
  {
   "cell_type": "code",
   "execution_count": 5,
   "metadata": {
    "scrolled": false
   },
   "outputs": [
    {
     "name": "stdout",
     "output_type": "stream",
     "text": [
      "0 0.011729368240142412\n",
      "298 0.010561984066002297 0.900473397182222\n"
     ]
    },
    {
     "data": {
      "image/png": "[encoded data removed]",
      "text/plain": [
       "<Figure size 432x288 with 1 Axes>"
      ]
     },
     "metadata": {
      "needs_background": "light"
     },
     "output_type": "display_data"
    }
   ],
   "source": [
    "#non\n",
    "%matplotlib inline\n",
    "PE=[1.668e-10,4.965e-10,9.398e-10,1.478e-09,2.099e-09,2.797e-09,3.565e-09,4.399e-09,5.295e-09,6.25e-09]\n",
    "cond=0\n",
    "plt.xlim(1e-1, 3e1)\n",
    "#plt.ylim(1e-11, 1e-7)\n",
    "plt.ylim(1e-4, 3e-1)\n",
    "#plt.ylim(0.01, 0.028)\n",
    "plt.xlabel('time [Myr]', fontsize=18)\n",
    "plt.ylabel(r'$M  \\,[M_\\odot]$', fontsize=18)\n",
    "for ms in range(10):\n",
    "    k=1+ms+(cond*10)\n",
    "    pltdat=dataall[:,:,k]\n",
    "    T=(np.array(range(299)))/10 #time 0.1Myr\n",
    "    rcon=5\n",
    "    trb=pltdat[rcon,604:903]\n",
    "    wnd=-pltdat[rcon,905:1204]\n",
    "    dmz=pltdat[rcon,2109:2408]\n",
    "    x=pltdat[:,0]\n",
    "    sgm=pltdat[:,1:300]\n",
    "    Trb=np.array(range(299))/10.\n",
    "    Pe=np.array(range(299))/10.\n",
    "    Dw=np.array(range(299))/10.\n",
    "    Tml=np.zeros(299)\n",
    "    Tmd=np.zeros(299)\n",
    "    Tmd1=np.zeros(299)\n",
    "    Tmd2=np.zeros(299)\n",
    "    Tall=np.zeros(299)\n",
    "    \n",
    "    for time in range(299):\n",
    "        for r in range(3999):\n",
    "            #print(x[r+1],x[r],sgm[r,time])\n",
    "            Tmd[time]+=(x[r+1]**2-x[r]**2)*np.pi*sgm[r+1,time]*1.184e-07#何年？\n",
    "            Tmd1[time]+=(x[r+1]**2-x[r]**2)*np.pi*sgm[r,time]*1.184e-07\n",
    "            Tmd2[time]+=(x[r+1]**2-x[r]**2)*np.pi*(sgm[r+1,time]+sgm[r+1,time])*0.5*1.184e-07\n",
    "        if time==0:\n",
    "            Tall[time]=Tmd[time]\n",
    "        else:\n",
    "            Tall[time]=Tml[time-1]+Tmd[time]\n",
    "        if time in [0] and ms==0:\n",
    "            #print(time,Tmd[time],Tall[time])\n",
    "            print(time,Tall[time])\n",
    "            Tall0=Tall[time]\n",
    "        if time in [298] and ms==0:\n",
    "            #print(time,Tmd[time],Tall[time],Tall[time]/Tall0)\n",
    "            print(time,Tall[time],Tall[time]/Tall0)\n",
    "        Trb[time]=np.sum((-trb+wnd)[:time])*1e5\n",
    "        #Pe[time]=(PE[ms]*time)*1e5\n",
    "        #Dw[time]=np.sum(dmz[:time])*1e5\n",
    "        Tml[time]=Trb[time]#+Pe[time]+Dw[time]\n",
    "    \n",
    "    wid=(1+ms)/5\n",
    "    mss=(1+ms)/10\n",
    "    taux=[3.7,0,3.2]\n",
    "    if ms==0:\n",
    "        #plt.plot(T,(-trb+wnd), linestyle = \"dashed\",color=\"k\",label=r'$\\.{M}_r$')\n",
    "        #plt.plot(T,(dmz),color=\"k\",label=r'$\\.{M}_z$ DW')\n",
    "        #plt.hlines(PE[ms],1e-1,2.97e1, linestyle = \"dotted\",color=\"k\")\n",
    "        #plt.plot(T,Trb, linestyle = \"dashed\",color=\"tab:pink\",label=r'$\\.{M}_r$')\n",
    "        #plt.plot(T,Dw,color=\"tab:green\",label=r'$\\.{M}_z$ DW')\n",
    "        #plt.plot(T,Pe,color=\"tab:orange\", linestyle = \"dotted\")\n",
    "        plt.plot(T,Tml,color=\"k\", linestyle = \"dashdot\")\n",
    "        plt.plot(T,Tmd,color=\"r\", linestyle = \"dashdot\")\n",
    "        #plt.plot(T,Tmd1,color=\"tab:pink\", linestyle = \"dashdot\")\n",
    "        #plt.plot(T,Tmd2,color=\"tab:green\", linestyle = \"dashdot\")\n",
    "        plt.plot(T,Tall,color=\"b\", linestyle = \"dashdot\")\n",
    "        ##plt.text(taux[0]*0.9,2.7e-9,r'$ \\tau_{\\mathrm{life}, 0.1M_\\odot}$', fontsize=18)\n",
    "        ##plt.annotate('', fontsize=18, xy=[taux[0],3e-10], xytext=[taux[0],2.3e-9],arrowprops=dict(shrink=0, width=1, headwidth=8, headlength=10,connectionstyle='arc3',facecolor='k',edgecolor='k'))\n",
    "    #if ms==9:\n",
    "        #plt.plot(T[:],(-trb+wnd)[:], linestyle = \"dashed\",color=\"#1f77b4\",label=r'$\\.{M}_r$')   \n",
    "        #plt.plot(T[:],(dmz[:]),color=\"#1f77b4\",label=r'$\\.{M}_z$ DW')\n",
    "        #plt.hlines(PE[ms],1e-1,6e0, linestyle = \"dotted\",color=\"#1f77b4\")\n",
    "        ##plt.text(taux[2]*0.9,1.3e-7,r'$ \\tau_{\\mathrm{life}, 1.0M_\\odot}$', fontsize=18)\n",
    "        ##plt.annotate('', fontsize=18, xy=[taux[2],1e-8], xytext=[taux[2],1e-7],arrowprops=dict(shrink=0, width=1, headwidth=8, headlength=10,connectionstyle='arc3',facecolor=\"#1f77b4\",edgecolor=\"#1f77b4\"))\n",
    "#plt.xscale('log')\n",
    "plt.yscale('log')\n",
    "plt.subplots_adjust(left=0.2, right=0.95, bottom=0.2, top=0.95)\n",
    "plt.tick_params(labelsize=15)\n",
    "\n",
    "plt.savefig(\"Mdotevo0jpg\")"
   ]
  },
  {
   "cell_type": "code",
   "execution_count": null,
   "metadata": {},
   "outputs": [],
   "source": [
    "0 0.027814715465324394 0.027814715465324394\n",
    "298 0.007127893637342304 0.0244350409880237\n",
    "298 0.007127893637342304 0.0244453271488357"
   ]
  },
  {
   "cell_type": "code",
   "execution_count": 4,
   "metadata": {},
   "outputs": [
    {
     "data": {
      "text/plain": [
       "0.8788631032127872"
      ]
     },
     "execution_count": 4,
     "metadata": {},
     "output_type": "execute_result"
    }
   ],
   "source": [
    "0 0.027814715465324394 0.027814715465324394\n",
    "298 0.007127893637342304 0.0244453271488357\n",
    "\n",
    "0.0244453271488357/0.027814715465324394\n"
   ]
  },
  {
   "cell_type": "code",
   "execution_count": 3,
   "metadata": {},
   "outputs": [
    {
     "data": {
      "image/png": "[encoded data removed]",
      "text/plain": [
       "<Figure size 432x288 with 1 Axes>"
      ]
     },
     "metadata": {
      "needs_background": "light"
     },
     "output_type": "display_data"
    }
   ],
   "source": [
    "\n",
    "#PEDWi\n",
    "%matplotlib inline\n",
    "PE=[1.668e-10,4.965e-10,9.398e-10,1.478e-09,2.099e-09,2.797e-09,3.565e-09,4.399e-09,5.295e-09,6.25e-09]\n",
    "cond=6\n",
    "plt.xlim(1e-1, 3e1)\n",
    "#plt.ylim(1e-11, 1e-7)\n",
    "plt.ylim(1e-4, 3e-1)\n",
    "plt.xlabel('time [Myr]', fontsize=18)\n",
    "plt.ylabel(r'$\\.{M}  \\,[M_\\odot yr^{-1}]$', fontsize=18)\n",
    "for ms in range(10):\n",
    "    k=1+ms+(cond*10)\n",
    "    pltdat=dataall[:,:,k]\n",
    "    T=(np.array(range(299)))/10 #time 0.1Myr\n",
    "    rcon=5\n",
    "    trb=pltdat[rcon,604:903]\n",
    "    wnd=-pltdat[rcon,905:1204]\n",
    "    dmz=pltdat[rcon,2109:2408]\n",
    "    x=pltdat[:,0]\n",
    "    sgm=pltdat[:,1:300]\n",
    "    Trb=np.array(range(299))/10.\n",
    "    Pe=np.array(range(299))/10.\n",
    "    Dw=np.array(range(299))/10.\n",
    "    Tml=np.array(range(299))/10.\n",
    "    Tmd=np.zeros(299)\n",
    "    Tmd1=np.zeros(299)\n",
    "    Tmd2=np.zeros(299)\n",
    "    Tall=np.zeros(299)\n",
    "    \n",
    "    for time in range(299):\n",
    "        Trb[time]=np.sum((-trb+wnd)[:time])*1e5\n",
    "        Pe[time]=(PE[ms]*time)*1e5\n",
    "        Dw[time]=np.sum(dmz[:time])*1e5\n",
    "        Tml[time]=Trb[time]+Pe[time]+Dw[time]\n",
    "        for r in range(3999):\n",
    "            #print(x[r+1],x[r],sgm[r,time])\n",
    "            Tmd[time]+=(x[r+1]**2-x[r]**2)*np.pi*sgm[r+1,time]*1.184e-07\n",
    "            Tmd1[time]+=(x[r+1]**2-x[r]**2)*np.pi*sgm[r,time]*1.184e-07\n",
    "            Tmd2[time]+=(x[r+1]**2-x[r]**2)*np.pi*(sgm[r+1,time]+sgm[r+1,time])*0.5*1.184e-07\n",
    "        Tall[time]=Tml[time]+Tmd[time]\n",
    "\n",
    "    \n",
    "    wid=(1+ms)/5\n",
    "    mss=(1+ms)/10\n",
    "    taux=[3.7,0,3.2]\n",
    "    if ms==0:\n",
    "        #plt.plot(T,(-trb+wnd), linestyle = \"dashed\",color=\"k\",label=r'$\\.{M}_r$')\n",
    "        #plt.plot(T,(dmz),color=\"k\",label=r'$\\.{M}_z$ DW')\n",
    "        #plt.hlines(PE[ms],1e-1,2.97e1, linestyle = \"dotted\",color=\"k\")\n",
    "        #plt.plot(T,Trb, linestyle = \"dashed\",color=\"tab:pink\",label=r'$\\.{M}_r$')\n",
    "        #plt.plot(T,Dw,color=\"tab:green\",label=r'$\\.{M}_z$ DW')\n",
    "        #plt.plot(T,Pe,color=\"tab:orange\", linestyle = \"dotted\")\n",
    "        plt.plot(T,Tml,color=\"k\", linestyle = \"dashdot\")\n",
    "        plt.plot(T,Tmd,color=\"r\", linestyle = \"dashdot\")\n",
    "        #plt.plot(T,Tmd1,color=\"tab:pink\", linestyle = \"dashdot\")\n",
    "        #plt.plot(T,Tmd2,color=\"tab:green\", linestyle = \"dashdot\")\n",
    "        plt.plot(T,Tall,color=\"b\", linestyle = \"dashdot\")\n",
    "        ##plt.text(taux[0]*0.9,2.7e-9,r'$ \\tau_{\\mathrm{life}, 0.1M_\\odot}$', fontsize=18)\n",
    "        ##plt.annotate('', fontsize=18, xy=[taux[0],3e-10], xytext=[taux[0],2.3e-9],arrowprops=dict(shrink=0, width=1, headwidth=8, headlength=10,connectionstyle='arc3',facecolor='k',edgecolor='k'))\n",
    "    #if ms==9:\n",
    "        #plt.plot(T[:],(-trb+wnd)[:], linestyle = \"dashed\",color=\"#1f77b4\",label=r'$\\.{M}_r$')   \n",
    "        #plt.plot(T[:],(dmz[:]),color=\"#1f77b4\",label=r'$\\.{M}_z$ DW')\n",
    "        #plt.hlines(PE[ms],1e-1,6e0, linestyle = \"dotted\",color=\"#1f77b4\")\n",
    "        ##plt.text(taux[2]*0.9,1.3e-7,r'$ \\tau_{\\mathrm{life}, 1.0M_\\odot}$', fontsize=18)\n",
    "        ##plt.annotate('', fontsize=18, xy=[taux[2],1e-8], xytext=[taux[2],1e-7],arrowprops=dict(shrink=0, width=1, headwidth=8, headlength=10,connectionstyle='arc3',facecolor=\"#1f77b4\",edgecolor=\"#1f77b4\"))\n",
    "#plt.xscale('log')\n",
    "plt.yscale('log')\n",
    "plt.subplots_adjust(left=0.2, right=0.95, bottom=0.2, top=0.95)\n",
    "plt.tick_params(labelsize=15)\n",
    "\n",
    "plt.savefig(\"Mdotevo6-1jpg\")"
   ]
  },
  {
   "cell_type": "code",
   "execution_count": 7,
   "metadata": {},
   "outputs": [
    {
     "name": "stdout",
     "output_type": "stream",
     "text": [
      "0 0.011729368240142412\n",
      "298 0.005457827076834863 0.465312961882813\n"
     ]
    },
    {
     "data": {
      "image/png": "[encoded data removed]",
      "text/plain": [
       "<Figure size 432x288 with 1 Axes>"
      ]
     },
     "metadata": {
      "needs_background": "light"
     },
     "output_type": "display_data"
    }
   ],
   "source": [
    "#non\n",
    "%matplotlib inline\n",
    "PE=[1.668e-10,4.965e-10,9.398e-10,1.478e-09,2.099e-09,2.797e-09,3.565e-09,4.399e-09,5.295e-09,6.25e-09]\n",
    "cond=1\n",
    "plt.xlim(1e-1, 3e1)\n",
    "#plt.ylim(1e-11, 1e-7)\n",
    "plt.ylim(1e-4, 3e-1)\n",
    "#plt.ylim(0.01, 0.028)\n",
    "plt.xlabel('time [Myr]', fontsize=18)\n",
    "plt.ylabel(r'$M  \\,[M_\\odot]$', fontsize=18)\n",
    "for ms in range(10):\n",
    "    k=1+ms+(cond*10)\n",
    "    pltdat=dataall[:,:,k]\n",
    "    T=(np.array(range(299)))/10 #time 0.1Myr\n",
    "    rcon=5\n",
    "    trb=pltdat[rcon,604:903]\n",
    "    wnd=-pltdat[rcon,905:1204]\n",
    "    dmz=pltdat[rcon,2109:2408]\n",
    "    x=pltdat[:,0]\n",
    "    sgm=pltdat[:,1:300]\n",
    "    Trb=np.array(range(299))/10.\n",
    "    Pe=np.array(range(299))/10.\n",
    "    Dw=np.array(range(299))/10.\n",
    "    Tml=np.zeros(299)\n",
    "    Tmd=np.zeros(299)\n",
    "    Tmd1=np.zeros(299)\n",
    "    Tmd2=np.zeros(299)\n",
    "    Tall=np.zeros(299)\n",
    "    \n",
    "    for time in range(299):\n",
    "        for r in range(3999):\n",
    "            #print(x[r+1],x[r],sgm[r,time])\n",
    "            Tmd[time]+=(x[r+1]**2-x[r]**2)*np.pi*sgm[r+1,time]*1.184e-07#何年？\n",
    "            Tmd1[time]+=(x[r+1]**2-x[r]**2)*np.pi*sgm[r,time]*1.184e-07\n",
    "            Tmd2[time]+=(x[r+1]**2-x[r]**2)*np.pi*(sgm[r+1,time]+sgm[r+1,time])*0.5*1.184e-07\n",
    "        if time==0:\n",
    "            Tall[time]=Tmd[time]\n",
    "        else:\n",
    "            Tall[time]=Tml[time-1]+Tmd[time]\n",
    "        if time in [0] and ms==0:\n",
    "            #print(time,Tmd[time],Tall[time])\n",
    "            print(time,Tall[time])\n",
    "            Tall0=Tall[time]\n",
    "        if time in [298] and ms==0:\n",
    "            #print(time,Tmd[time],Tall[time],Tall[time]/Tall0)\n",
    "            print(time,Tall[time],Tall[time]/Tall0)\n",
    "        Trb[time]=np.sum((-trb+wnd)[:time])*1e5\n",
    "        #Pe[time]=(PE[ms]*time)*1e5\n",
    "        #Dw[time]=np.sum(dmz[:time])*1e5\n",
    "        Tml[time]=Trb[time]#+Pe[time]+Dw[time]\n",
    "    \n",
    "    wid=(1+ms)/5\n",
    "    mss=(1+ms)/10\n",
    "    taux=[3.7,0,3.2]\n",
    "    if ms==0:\n",
    "        #plt.plot(T,(-trb+wnd), linestyle = \"dashed\",color=\"k\",label=r'$\\.{M}_r$')\n",
    "        #plt.plot(T,(dmz),color=\"k\",label=r'$\\.{M}_z$ DW')\n",
    "        #plt.hlines(PE[ms],1e-1,2.97e1, linestyle = \"dotted\",color=\"k\")\n",
    "        #plt.plot(T,Trb, linestyle = \"dashed\",color=\"tab:pink\",label=r'$\\.{M}_r$')\n",
    "        #plt.plot(T,Dw,color=\"tab:green\",label=r'$\\.{M}_z$ DW')\n",
    "        #plt.plot(T,Pe,color=\"tab:orange\", linestyle = \"dotted\")\n",
    "        plt.plot(T,Tml,color=\"k\", linestyle = \"dashdot\")\n",
    "        plt.plot(T,Tmd,color=\"r\", linestyle = \"dashdot\")\n",
    "        #plt.plot(T,Tmd1,color=\"tab:pink\", linestyle = \"dashdot\")\n",
    "        #plt.plot(T,Tmd2,color=\"tab:green\", linestyle = \"dashdot\")\n",
    "        plt.plot(T,Tall,color=\"b\", linestyle = \"dashdot\")\n",
    "        ##plt.text(taux[0]*0.9,2.7e-9,r'$ \\tau_{\\mathrm{life}, 0.1M_\\odot}$', fontsize=18)\n",
    "        ##plt.annotate('', fontsize=18, xy=[taux[0],3e-10], xytext=[taux[0],2.3e-9],arrowprops=dict(shrink=0, width=1, headwidth=8, headlength=10,connectionstyle='arc3',facecolor='k',edgecolor='k'))\n",
    "    #if ms==9:\n",
    "        #plt.plot(T[:],(-trb+wnd)[:], linestyle = \"dashed\",color=\"#1f77b4\",label=r'$\\.{M}_r$')   \n",
    "        #plt.plot(T[:],(dmz[:]),color=\"#1f77b4\",label=r'$\\.{M}_z$ DW')\n",
    "        #plt.hlines(PE[ms],1e-1,6e0, linestyle = \"dotted\",color=\"#1f77b4\")\n",
    "        ##plt.text(taux[2]*0.9,1.3e-7,r'$ \\tau_{\\mathrm{life}, 1.0M_\\odot}$', fontsize=18)\n",
    "        ##plt.annotate('', fontsize=18, xy=[taux[2],1e-8], xytext=[taux[2],1e-7],arrowprops=dict(shrink=0, width=1, headwidth=8, headlength=10,connectionstyle='arc3',facecolor=\"#1f77b4\",edgecolor=\"#1f77b4\"))\n",
    "#plt.xscale('log')\n",
    "plt.yscale('log')\n",
    "plt.subplots_adjust(left=0.2, right=0.95, bottom=0.2, top=0.95)\n",
    "plt.tick_params(labelsize=15)\n",
    "\n",
    "plt.savefig(\"Mdotevo1jpg\")"
   ]
  },
  {
   "cell_type": "code",
   "execution_count": 8,
   "metadata": {},
   "outputs": [
    {
     "name": "stdout",
     "output_type": "stream",
     "text": [
      "0 0.011729368240142412\n",
      "298 0.00745769138418741 0.6358135605858396\n"
     ]
    },
    {
     "data": {
      "image/png": "[encoded data removed]",
      "text/plain": [
       "<Figure size 432x288 with 1 Axes>"
      ]
     },
     "metadata": {
      "needs_background": "light"
     },
     "output_type": "display_data"
    }
   ],
   "source": [
    "#non\n",
    "%matplotlib inline\n",
    "PE=[1.668e-10,4.965e-10,9.398e-10,1.478e-09,2.099e-09,2.797e-09,3.565e-09,4.399e-09,5.295e-09,6.25e-09]\n",
    "cond=4\n",
    "plt.xlim(1e-1, 3e1)\n",
    "#plt.ylim(1e-11, 1e-7)\n",
    "plt.ylim(1e-4, 3e-1)\n",
    "#plt.ylim(0.01, 0.028)\n",
    "plt.xlabel('time [Myr]', fontsize=18)\n",
    "plt.ylabel(r'$M  \\,[M_\\odot]$', fontsize=18)\n",
    "for ms in range(10):\n",
    "    k=1+ms+(cond*10)\n",
    "    pltdat=dataall[:,:,k]\n",
    "    T=(np.array(range(299)))/10 #time 0.1Myr\n",
    "    rcon=5\n",
    "    trb=pltdat[rcon,604:903]\n",
    "    wnd=-pltdat[rcon,905:1204]\n",
    "    dmz=pltdat[rcon,2109:2408]\n",
    "    x=pltdat[:,0]\n",
    "    sgm=pltdat[:,1:300]\n",
    "    Trb=np.array(range(299))/10.\n",
    "    Pe=np.array(range(299))/10.\n",
    "    Dw=np.array(range(299))/10.\n",
    "    Tml=np.zeros(299)\n",
    "    Tmd=np.zeros(299)\n",
    "    Tmd1=np.zeros(299)\n",
    "    Tmd2=np.zeros(299)\n",
    "    Tall=np.zeros(299)\n",
    "    \n",
    "    for time in range(299):\n",
    "        for r in range(3999):\n",
    "            #print(x[r+1],x[r],sgm[r,time])\n",
    "            Tmd[time]+=(x[r+1]**2-x[r]**2)*np.pi*sgm[r+1,time]*1.184e-07#何年？\n",
    "            Tmd1[time]+=(x[r+1]**2-x[r]**2)*np.pi*sgm[r,time]*1.184e-07\n",
    "            Tmd2[time]+=(x[r+1]**2-x[r]**2)*np.pi*(sgm[r+1,time]+sgm[r+1,time])*0.5*1.184e-07\n",
    "        if time==0:\n",
    "            Tall[time]=Tmd[time]\n",
    "        else:\n",
    "            Tall[time]=Tml[time-1]+Tmd[time]\n",
    "        if time in [0] and ms==0:\n",
    "            #print(time,Tmd[time],Tall[time])\n",
    "            print(time,Tall[time])\n",
    "            Tall0=Tall[time]\n",
    "        if time in [298] and ms==0:\n",
    "            #print(time,Tmd[time],Tall[time],Tall[time]/Tall0)\n",
    "            print(time,Tall[time],Tall[time]/Tall0)\n",
    "        Trb[time]=np.sum((-trb+wnd)[:time])*1e5\n",
    "        #Pe[time]=(PE[ms]*time)*1e5\n",
    "        Dw[time]=np.sum(dmz[:time])*1e5\n",
    "        Tml[time]=Trb[time]+Dw[time]#+Pe[time]\n",
    "    \n",
    "    wid=(1+ms)/5\n",
    "    mss=(1+ms)/10\n",
    "    taux=[3.7,0,3.2]\n",
    "    if ms==0:\n",
    "        #plt.plot(T,(-trb+wnd), linestyle = \"dashed\",color=\"k\",label=r'$\\.{M}_r$')\n",
    "        #plt.plot(T,(dmz),color=\"k\",label=r'$\\.{M}_z$ DW')\n",
    "        #plt.hlines(PE[ms],1e-1,2.97e1, linestyle = \"dotted\",color=\"k\")\n",
    "        #plt.plot(T,Trb, linestyle = \"dashed\",color=\"tab:pink\",label=r'$\\.{M}_r$')\n",
    "        #plt.plot(T,Dw,color=\"tab:green\",label=r'$\\.{M}_z$ DW')\n",
    "        #plt.plot(T,Pe,color=\"tab:orange\", linestyle = \"dotted\")\n",
    "        plt.plot(T,Tml,color=\"k\", linestyle = \"dashdot\")\n",
    "        plt.plot(T,Tmd,color=\"r\", linestyle = \"dashdot\")\n",
    "        #plt.plot(T,Tmd1,color=\"tab:pink\", linestyle = \"dashdot\")\n",
    "        #plt.plot(T,Tmd2,color=\"tab:green\", linestyle = \"dashdot\")\n",
    "        plt.plot(T,Tall,color=\"b\", linestyle = \"dashdot\")\n",
    "        ##plt.text(taux[0]*0.9,2.7e-9,r'$ \\tau_{\\mathrm{life}, 0.1M_\\odot}$', fontsize=18)\n",
    "        ##plt.annotate('', fontsize=18, xy=[taux[0],3e-10], xytext=[taux[0],2.3e-9],arrowprops=dict(shrink=0, width=1, headwidth=8, headlength=10,connectionstyle='arc3',facecolor='k',edgecolor='k'))\n",
    "    #if ms==9:\n",
    "        #plt.plot(T[:],(-trb+wnd)[:], linestyle = \"dashed\",color=\"#1f77b4\",label=r'$\\.{M}_r$')   \n",
    "        #plt.plot(T[:],(dmz[:]),color=\"#1f77b4\",label=r'$\\.{M}_z$ DW')\n",
    "        #plt.hlines(PE[ms],1e-1,6e0, linestyle = \"dotted\",color=\"#1f77b4\")\n",
    "        ##plt.text(taux[2]*0.9,1.3e-7,r'$ \\tau_{\\mathrm{life}, 1.0M_\\odot}$', fontsize=18)\n",
    "        ##plt.annotate('', fontsize=18, xy=[taux[2],1e-8], xytext=[taux[2],1e-7],arrowprops=dict(shrink=0, width=1, headwidth=8, headlength=10,connectionstyle='arc3',facecolor=\"#1f77b4\",edgecolor=\"#1f77b4\"))\n",
    "#plt.xscale('log')\n",
    "plt.yscale('log')\n",
    "plt.subplots_adjust(left=0.2, right=0.95, bottom=0.2, top=0.95)\n",
    "plt.tick_params(labelsize=15)\n",
    "\n",
    "plt.savefig(\"Mdotevo4jpg\")"
   ]
  },
  {
   "cell_type": "code",
   "execution_count": null,
   "metadata": {},
   "outputs": [],
   "source": []
  }
 ],
 "metadata": {
  "kernelspec": {
   "display_name": "Python 3",
   "language": "python",
   "name": "python3"
  },
  "language_info": {
   "codemirror_mode": {
    "name": "ipython",
    "version": 3
   },
   "file_extension": ".py",
   "mimetype": "text/x-python",
   "name": "python",
   "nbconvert_exporter": "python",
   "pygments_lexer": "ipython3",
   "version": "3.8.3"
  }
 },
 "nbformat": 4,
 "nbformat_minor": 4
}
