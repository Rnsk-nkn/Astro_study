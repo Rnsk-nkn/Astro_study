{
 "cells": [
  {
   "cell_type": "code",
   "execution_count": 86,
   "metadata": {},
   "outputs": [
    {
     "name": "stdout",
     "output_type": "stream",
     "text": [
      "start!\n",
      "[]\n"
     ]
    }
   ],
   "source": [
    "#%matplotlib nbagg\n",
    "%matplotlib inline\n",
    "import numpy as np\n",
    "import matplotlib.pyplot as plt\n",
    "import matplotlib.animation as animation\n",
    "print(\"start!\")\n",
    "ims = []\n",
    "dataall=[]\n",
    "print(dataall)\n",
    "#dataall=np.zeros((4000, 2409))\n",
    "datape=np.zeros((4000, 2))\n",
    "#N = 2409  # 1レコード番号あたりに格納されているデータの数。\n",
    "N = 2  # 1レコード番号あたりに格納されているデータの数。\n",
    "M = 4000  # レコードの総数。\n",
    "numb=1\n",
    "fname='./petest.dat'\n",
    "f = open(fname, 'r')\n",
    "dty = np.dtype([('data', '<' + str(N) + 'f')])\n",
    "chunk = np.fromfile(f, dtype=dty, count=M)\n",
    "data = []\n",
    "for k in range(M):\n",
    "    data.append(chunk[k]['data'])\n",
    "data=np.array(data)\n",
    "datape=np.dstack((datape, data))\n",
    "\n",
    "np.save('datapek3', datape)"
   ]
  },
  {
   "cell_type": "code",
   "execution_count": 7,
   "metadata": {},
   "outputs": [
    {
     "name": "stdout",
     "output_type": "stream",
     "text": [
      "Lifetime_all.ipynb       Lifetime_okp.ipynb  line_0305.npy  line_o.npy\r\n",
      "Lifetime_fittin-2.ipynb  datapek4.npy        line_0510.npy  line_p.npy\r\n",
      "Lifetime_fittin.ipynb    datapeo4.npy        line_k.npy     line_p2.npy\r\n",
      "Lifetime_okp-2.ipynb     datapep4.npy        line_k2.npy    line_p3.npy\r\n",
      "Lifetime_okp-3.ipynb     line_0103.npy       line_k3.npy    peread.ipynb\r\n"
     ]
    }
   ],
   "source": [
    "ls"
   ]
  },
  {
   "cell_type": "code",
   "execution_count": 8,
   "metadata": {},
   "outputs": [],
   "source": [
    "#%matplotlib nbagg\n",
    "%matplotlib inline\n",
    "import numpy as np\n",
    "import matplotlib.pyplot as plt\n",
    "import matplotlib.animation as animation\n",
    "#datape=np.load('datapek3.npy')\n",
    "datapeo=np.load('datapeo4.npy')\n",
    "datapep=np.load('datapep4.npy')\n",
    "datapek=np.load('datapek4.npy')"
   ]
  },
  {
   "cell_type": "code",
   "execution_count": 20,
   "metadata": {},
   "outputs": [
    {
     "name": "stdout",
     "output_type": "stream",
     "text": [
      "(4000, 2, 2)\n",
      "(4000, 2)\n",
      "[4.00000e-02 6.50000e-02 9.00000e-02 ... 9.99650e+01 9.99900e+01\n",
      " 1.00015e+02]\n",
      "[3.400000e-02 5.525000e-02 7.650000e-02 ... 8.497025e+01 8.499150e+01\n",
      " 8.501275e+01]\n"
     ]
    },
    {
     "data": {
      "image/png": "[encoded data removed]",
      "text/plain": [
       "<Figure size 432x288 with 1 Axes>"
      ]
     },
     "metadata": {
      "needs_background": "light"
     },
     "output_type": "display_data"
    }
   ],
   "source": [
    "print(datapeo.shape)\n",
    "pltdato=datapeo[:,:,1]\n",
    "pltdatp=datapep[:,:,1]\n",
    "pltdatk=datapek[:,:,1]\n",
    "print(pltdato.shape)\n",
    "#a=np.arange(4000)\n",
    "a=0.04+2.5e-2*np.arange(4000)\n",
    "print(a)\n",
    "b=a*a\n",
    "c=a*0.85\n",
    "print(c)\n",
    "x = []\n",
    "y = []\n",
    "y1 = []\n",
    "y2 = []\n",
    "y3 = []\n",
    "x.extend(pltdato[:,0])\n",
    "y.extend(pltdato[:,1])\n",
    "y1.extend(pltdato[:,1])\n",
    "y2.extend(pltdatp[:,1])\n",
    "y3.extend(pltdatk[:,1])\n",
    "y1=np.array(y1)\n",
    "y2=np.array(y2)\n",
    "y3=np.array(y3)\n",
    "#print(x)\n",
    "#print(y)\n",
    "y1=np.where(y1<1e-30,1e-30, y1)\n",
    "y2=np.where(y2<1e-30,1e-30, y2)\n",
    "y3=np.where(y3<1e-30,1e-30, y3)\n",
    "#print(y)\n",
    "#y2=-y\n",
    "#plt.plot(x, y,linewidth = 0.9)\n",
    "plt.scatter(c, y1,linewidth = 0.9,label=\"o\")\n",
    "plt.scatter(c, y2,linewidth = 0.9,label=\"p\")\n",
    "plt.scatter(c, y3,linewidth = 0.9,label=\"k\")\n",
    "#plt.plot(x, y2,linewidth = 0.9)\n",
    "plt.xscale('log')\n",
    "plt.yscale('log')\n",
    "#plt.ylim(1e-20, 1e-15)\n",
    "plt.legend()\n",
    "plt.ylim(1e-20, 1e-7)\n",
    "plt.xlim(1e0, 1e2)\n",
    "plt.show()"
   ]
  },
  {
   "cell_type": "code",
   "execution_count": null,
   "metadata": {},
   "outputs": [],
   "source": [
    "\n",
    "plt.cla()\n",
    "for cond in [0,1]:#01234567:\n",
    "\n",
    "    plt.cla()\n",
    "    for time in range(300):\n",
    "        for i in range(1):\n",
    "            for M in [0]:\n",
    "            #for M in range(10):\n",
    "                k=M+1+(cond)\n",
    "                pltdat=0\n",
    "                pltdat=dataall[:,:,k]\n",
    "                x = []\n",
    "                y = []\n",
    "                x.extend(pltdat[:,0])\n",
    "                y.extend(pltdat[:,1+time])\n",
    "                #y.extend(pltdat[:,603+time])\n",
    "                y=np.array(y)\n",
    "                y2=-np.array(y)\n",
    "                r0=3995\n",
    "                #print(time,y2[r0],y[r0])\n",
    "                plt.plot(x, y,linewidth = 0.9)\n",
    "                plt.plot(x, y2,linewidth = 0.9,linestyle=\"dotted\")\n",
    "                plt.xscale('log')\n",
    "                plt.yscale('log')\n",
    "    #plt.xlim(1e-3, 1e+4)\n",
    "    #plt.ylim(1e-18, 1e+9)\n",
    "                        \n",
    "    plt.show()"
   ]
  },
  {
   "cell_type": "code",
   "execution_count": 106,
   "metadata": {},
   "outputs": [
    {
     "name": "stdout",
     "output_type": "stream",
     "text": [
      "8891804.169407189\n"
     ]
    }
   ],
   "source": [
    "pi=3.14159265358979e0 \n",
    "au = 1.496e13\n",
    "slms = 1.99e33\n",
    "tyr = 3.156e7\n",
    "stmass=1.0\n",
    "rhocgs = 1.4e-8\n",
    "sgmcgs = rhocgs * (pi**0.5) * 4.69e-2* ((stmass)**0.75) * au\n",
    "ttmsfc = sgmcgs * au * au * 2.e0 * pi / slms\n",
    "ttmsfc =  au * au / slms\n",
    "print(1/ttmsfc)"
   ]
  },
  {
   "cell_type": "code",
   "execution_count": 107,
   "metadata": {},
   "outputs": [
    {
     "data": {
      "text/plain": [
       "8891804.169407189"
      ]
     },
     "execution_count": 107,
     "metadata": {},
     "output_type": "execute_result"
    }
   ],
   "source": [
    "8.89e6"
   ]
  },
  {
   "cell_type": "code",
   "execution_count": null,
   "metadata": {},
   "outputs": [],
   "source": []
  }
 ],
 "metadata": {
  "kernelspec": {
   "display_name": "Python 3 (ipykernel)",
   "language": "python",
   "name": "python3"
  },
  "language_info": {
   "codemirror_mode": {
    "name": "ipython",
    "version": 3
   },
   "file_extension": ".py",
   "mimetype": "text/x-python",
   "name": "python",
   "nbconvert_exporter": "python",
   "pygments_lexer": "ipython3",
   "version": "3.9.7"
  }
 },
 "nbformat": 4,
 "nbformat_minor": 4
}
