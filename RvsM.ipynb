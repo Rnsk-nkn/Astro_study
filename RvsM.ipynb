{
 "cells": [
  {
   "cell_type": "code",
   "execution_count": 7,
   "metadata": {},
   "outputs": [
    {
     "name": "stdout",
     "output_type": "stream",
     "text": [
      "Populating the interactive namespace from numpy and matplotlib\n",
      "[1.         0.97044553 0.89583414 0.85214379 0.71892373 0.66365025\n",
      " 0.51170858 0.36787944]\n",
      "[1.         0.90483742 0.67032005 0.44932896 0.30119421 0.22313016\n",
      " 0.12245643 0.0450492 ]\n",
      "[0.1 0.2 0.3 0.4 0.5 0.6 0.7 0.8 0.9 1. ]\n",
      "paramater = [  -70.32219496   687.61337722 -2733.49607722  5666.82702489\n",
      " -6466.61215479  3855.63909081  -938.65770038]\n"
     ]
    },
    {
     "data": {
      "image/png": "[encoded data removed]",
      "text/plain": [
       "<Figure size 432x288 with 1 Axes>"
      ]
     },
     "metadata": {},
     "output_type": "display_data"
    },
    {
     "name": "stdout",
     "output_type": "stream",
     "text": [
      "[-23.83803447  -5.97759544  -0.743136     0.13244435   0.12278779\n",
      "   0.16942771   0.26730462   0.37444859   0.64582815   0.99136556]\n"
     ]
    }
   ],
   "source": [
    "import numpy as np\n",
    "import matplotlib.pyplot as plt\n",
    "import matplotlib.animation as animation\n",
    "import scipy.optimize\n",
    "%pylab inline --no-import-all\n",
    "Mlog=[0,-0.03,-0.11,-0.16,-0.33,-0.41,-0.67,-1.0]\n",
    "Llog=[0,-0.1,-0.4,-0.8,-1.2,-1.5,-2.1,-3.1]\n",
    "M=np.exp(Mlog)\n",
    "L=np.exp(Llog)\n",
    "print(M)\n",
    "print(L)\n",
    "x=np.array([0.1,0.2,0.3,0.4,0.5,0.6,0.7,0.8,0.9,1.0])\n",
    "print(x)\n",
    "parameter_initial = np.array([0,0,0,0,0,0,0])\n",
    "def func(x, a, b, c,d,e,f,g):\n",
    "    return a + b*x + c*x*x+ d*x**3+ e*x**4+ f*x**5+ g*x**6\n",
    "paramater_optimal, covariance = scipy.optimize.curve_fit(func, M, L, p0=parameter_initial)\n",
    "print (\"paramater =\", paramater_optimal)\n",
    "y = func(x,paramater_optimal[0],paramater_optimal[1],paramater_optimal[2],paramater_optimal[3],paramater_optimal[4],paramater_optimal[5],paramater_optimal[6])\n",
    "\n",
    "plt.xscale('log')\n",
    "plt.yscale('log')\n",
    "plt.plot(M, L, 'o')\n",
    "plt.plot(x, y, '-')\n",
    "\n",
    "plt.show()\n",
    "print(y)"
   ]
  },
  {
   "cell_type": "code",
   "execution_count": 8,
   "metadata": {},
   "outputs": [
    {
     "name": "stdout",
     "output_type": "stream",
     "text": [
      "start!\n",
      "[0.1 0.2 0.3 0.4 0.5 0.6 0.7 0.8 0.9 1.  1.1 1.2 1.3 1.4 1.5 1.6 1.7 1.8\n",
      " 1.9 2. ]\n",
      "[0. 0. 0. 0. 0. 0. 0. 0. 0. 0. 0. 0. 0. 0. 0. 0. 0. 0. 0. 0.]\n",
      "34.48275862068965 0.1\n",
      "8.620689655172413 0.2\n",
      "3.831417624521072 0.30000000000000004\n",
      "2.155172413793103 0.4\n",
      "1.3793103448275863 0.5\n",
      "0.9578544061302682 0.6\n",
      "0.7037297677691767 0.7\n",
      "0.5387931034482759 0.7999999999999999\n",
      "0.42571306939123027 0.9\n",
      "0.3448275862068966 1.0\n",
      "0.28498147620404674 1.1\n",
      "0.239463601532567 1.2000000000000002\n",
      "0.2040399918384003 1.3\n",
      "0.17593244194229413 1.4000000000000001\n",
      "0.15325670498084293 1.5\n",
      "0.13469827586206895 1.6\n",
      "0.11931750387781885 1.7000000000000002\n",
      "0.10642826734780757 1.8\n",
      "0.09552010698251981 1.9000000000000001\n",
      "0.08620689655172414 2.0\n",
      "[34.48275862  8.62068966  3.83141762  2.15517241  1.37931034  0.95785441\n",
      "  0.70372977  0.5387931   0.42571307  0.34482759]\n"
     ]
    }
   ],
   "source": [
    "%matplotlib nbagg\n",
    "#%matplotlib inline\n",
    "import numpy as np\n",
    "import matplotlib.pyplot as plt\n",
    "import matplotlib.animation as animation\n",
    "print(\"start!\")\n",
    "\n",
    "Mnorm=np.arange(20)\n",
    "Mnorm=Mnorm/10+0.1\n",
    "y=np.zeros(20)\n",
    "print(Mnorm)\n",
    "print(y)\n",
    "rnorm=np.zeros(20)\n",
    "for i in range(20):\n",
    "    y[i]=((Mnorm[i]**(4/2))*2.9)\n",
    "    rnorm[i]=1/((Mnorm[i]**(4/2))*2.9)\n",
    "    print(rnorm[i],Mnorm[i])\n",
    "print(rnorm[:10])"
   ]
  },
  {
   "cell_type": "code",
   "execution_count": 9,
   "metadata": {},
   "outputs": [
    {
     "name": "stdout",
     "output_type": "stream",
     "text": [
      "Populating the interactive namespace from numpy and matplotlib\n",
      "[1.         0.97044553 0.89583414 0.85214379 0.71892373 0.66365025\n",
      " 0.51170858 0.36787944]\n",
      "[1.         0.90483742 0.67032005 0.44932896 0.30119421 0.22313016\n",
      " 0.12245643 0.0450492 ]\n"
     ]
    },
    {
     "data": {
      "text/plain": [
       "<function matplotlib.pyplot.show(*args, **kw)>"
      ]
     },
     "execution_count": 9,
     "metadata": {},
     "output_type": "execute_result"
    },
    {
     "data": {
      "image/png": "[encoded data removed]",
      "text/plain": [
       "<Figure size 432x288 with 1 Axes>"
      ]
     },
     "metadata": {},
     "output_type": "display_data"
    }
   ],
   "source": [
    "import numpy as np\n",
    "import matplotlib.pyplot as plt\n",
    "import matplotlib.animation as animation\n",
    "import scipy.optimize\n",
    "%pylab inline --no-import-all\n",
    "Mlog=[0,-0.03,-0.11,-0.16,-0.33,-0.41,-0.67,-1.0]\n",
    "Llog=[0,-0.1,-0.4,-0.8,-1.2,-1.5,-2.1,-3.1]\n",
    "M=np.exp(Mlog)\n",
    "L=np.exp(Llog)\n",
    "print(M)\n",
    "print(L)\n",
    "\n",
    "plt.plot(M, L, 'o')\n",
    "plt.show"
   ]
  },
  {
   "cell_type": "code",
   "execution_count": 10,
   "metadata": {},
   "outputs": [
    {
     "name": "stdout",
     "output_type": "stream",
     "text": [
      "Populating the interactive namespace from numpy and matplotlib\n",
      "[1.         0.97044553 0.89583414 0.85214379 0.71892373 0.66365025\n",
      " 0.51170858 0.36787944]\n",
      "[1.         0.90483742 0.67032005 0.44932896 0.30119421 0.22313016\n",
      " 0.12245643 0.0450492 ]\n",
      "[0.1 0.2 0.3 0.4 0.5 0.6 0.7 0.8 0.9 1. ]\n"
     ]
    },
    {
     "ename": "TypeError",
     "evalue": "func() missing 5 required positional arguments: 'c', 'd', 'e', 'f', and 'g'",
     "output_type": "error",
     "traceback": [
      "\u001b[0;31m---------------------------------------------------------------------------\u001b[0m",
      "\u001b[0;31mTypeError\u001b[0m                                 Traceback (most recent call last)",
      "\u001b[0;32m<ipython-input-10-14c5fa3cf070>\u001b[0m in \u001b[0;36m<module>\u001b[0;34m()\u001b[0m\n\u001b[1;32m     23\u001b[0m \u001b[0;31m#param, cov = curve_fit(nonlinear_fit, array_x, array_y)\u001b[0m\u001b[0;34m\u001b[0m\u001b[0;34m\u001b[0m\u001b[0m\n\u001b[1;32m     24\u001b[0m \u001b[0;34m\u001b[0m\u001b[0m\n\u001b[0;32m---> 25\u001b[0;31m \u001b[0mparamater_optimal1\u001b[0m\u001b[0;34m,\u001b[0m \u001b[0mcovariance\u001b[0m \u001b[0;34m=\u001b[0m \u001b[0mscipy\u001b[0m\u001b[0;34m.\u001b[0m\u001b[0moptimize\u001b[0m\u001b[0;34m.\u001b[0m\u001b[0mcurve_fit\u001b[0m\u001b[0;34m(\u001b[0m\u001b[0mfunc\u001b[0m\u001b[0;34m,\u001b[0m \u001b[0mM\u001b[0m\u001b[0;34m[\u001b[0m\u001b[0;34m:\u001b[0m\u001b[0;36m4\u001b[0m\u001b[0;34m]\u001b[0m\u001b[0;34m,\u001b[0m \u001b[0mL\u001b[0m\u001b[0;34m[\u001b[0m\u001b[0;34m:\u001b[0m\u001b[0;36m4\u001b[0m\u001b[0;34m]\u001b[0m\u001b[0;34m,\u001b[0m \u001b[0mp0\u001b[0m\u001b[0;34m=\u001b[0m\u001b[0mparameter_initial\u001b[0m\u001b[0;34m)\u001b[0m\u001b[0;34m\u001b[0m\u001b[0m\n\u001b[0m\u001b[1;32m     26\u001b[0m \u001b[0mparamater_optimal2\u001b[0m\u001b[0;34m,\u001b[0m \u001b[0mcovariance\u001b[0m \u001b[0;34m=\u001b[0m \u001b[0mscipy\u001b[0m\u001b[0;34m.\u001b[0m\u001b[0moptimize\u001b[0m\u001b[0;34m.\u001b[0m\u001b[0mcurve_fit\u001b[0m\u001b[0;34m(\u001b[0m\u001b[0mfunc\u001b[0m\u001b[0;34m,\u001b[0m \u001b[0mM\u001b[0m\u001b[0;34m[\u001b[0m\u001b[0;36m4\u001b[0m\u001b[0;34m:\u001b[0m\u001b[0;34m]\u001b[0m\u001b[0;34m,\u001b[0m \u001b[0mL\u001b[0m\u001b[0;34m[\u001b[0m\u001b[0;36m4\u001b[0m\u001b[0;34m:\u001b[0m\u001b[0;34m]\u001b[0m\u001b[0;34m,\u001b[0m \u001b[0mp0\u001b[0m\u001b[0;34m=\u001b[0m\u001b[0mparameter_initial\u001b[0m\u001b[0;34m)\u001b[0m\u001b[0;34m\u001b[0m\u001b[0m\n\u001b[1;32m     27\u001b[0m \u001b[0mprint\u001b[0m \u001b[0;34m(\u001b[0m\u001b[0;34m\"paramater =\"\u001b[0m\u001b[0;34m,\u001b[0m \u001b[0mparamater_optimal1\u001b[0m\u001b[0;34m)\u001b[0m\u001b[0;34m\u001b[0m\u001b[0m\n",
      "\u001b[0;32m~/.pyenv/versions/anaconda3-5.2.0/lib/python3.6/site-packages/scipy/optimize/minpack.py\u001b[0m in \u001b[0;36mcurve_fit\u001b[0;34m(f, xdata, ydata, p0, sigma, absolute_sigma, check_finite, bounds, method, jac, **kwargs)\u001b[0m\n\u001b[1;32m    749\u001b[0m         \u001b[0;31m# Remove full_output from kwargs, otherwise we're passing it in twice.\u001b[0m\u001b[0;34m\u001b[0m\u001b[0;34m\u001b[0m\u001b[0m\n\u001b[1;32m    750\u001b[0m         \u001b[0mreturn_full\u001b[0m \u001b[0;34m=\u001b[0m \u001b[0mkwargs\u001b[0m\u001b[0;34m.\u001b[0m\u001b[0mpop\u001b[0m\u001b[0;34m(\u001b[0m\u001b[0;34m'full_output'\u001b[0m\u001b[0;34m,\u001b[0m \u001b[0;32mFalse\u001b[0m\u001b[0;34m)\u001b[0m\u001b[0;34m\u001b[0m\u001b[0m\n\u001b[0;32m--> 751\u001b[0;31m         \u001b[0mres\u001b[0m \u001b[0;34m=\u001b[0m \u001b[0mleastsq\u001b[0m\u001b[0;34m(\u001b[0m\u001b[0mfunc\u001b[0m\u001b[0;34m,\u001b[0m \u001b[0mp0\u001b[0m\u001b[0;34m,\u001b[0m \u001b[0mDfun\u001b[0m\u001b[0;34m=\u001b[0m\u001b[0mjac\u001b[0m\u001b[0;34m,\u001b[0m \u001b[0mfull_output\u001b[0m\u001b[0;34m=\u001b[0m\u001b[0;36m1\u001b[0m\u001b[0;34m,\u001b[0m \u001b[0;34m**\u001b[0m\u001b[0mkwargs\u001b[0m\u001b[0;34m)\u001b[0m\u001b[0;34m\u001b[0m\u001b[0m\n\u001b[0m\u001b[1;32m    752\u001b[0m         \u001b[0mpopt\u001b[0m\u001b[0;34m,\u001b[0m \u001b[0mpcov\u001b[0m\u001b[0;34m,\u001b[0m \u001b[0minfodict\u001b[0m\u001b[0;34m,\u001b[0m \u001b[0merrmsg\u001b[0m\u001b[0;34m,\u001b[0m \u001b[0mier\u001b[0m \u001b[0;34m=\u001b[0m \u001b[0mres\u001b[0m\u001b[0;34m\u001b[0m\u001b[0m\n\u001b[1;32m    753\u001b[0m         \u001b[0mcost\u001b[0m \u001b[0;34m=\u001b[0m \u001b[0mnp\u001b[0m\u001b[0;34m.\u001b[0m\u001b[0msum\u001b[0m\u001b[0;34m(\u001b[0m\u001b[0minfodict\u001b[0m\u001b[0;34m[\u001b[0m\u001b[0;34m'fvec'\u001b[0m\u001b[0;34m]\u001b[0m \u001b[0;34m**\u001b[0m \u001b[0;36m2\u001b[0m\u001b[0;34m)\u001b[0m\u001b[0;34m\u001b[0m\u001b[0m\n",
      "\u001b[0;32m~/.pyenv/versions/anaconda3-5.2.0/lib/python3.6/site-packages/scipy/optimize/minpack.py\u001b[0m in \u001b[0;36mleastsq\u001b[0;34m(func, x0, args, Dfun, full_output, col_deriv, ftol, xtol, gtol, maxfev, epsfcn, factor, diag)\u001b[0m\n\u001b[1;32m    381\u001b[0m     \u001b[0;32mif\u001b[0m \u001b[0;32mnot\u001b[0m \u001b[0misinstance\u001b[0m\u001b[0;34m(\u001b[0m\u001b[0margs\u001b[0m\u001b[0;34m,\u001b[0m \u001b[0mtuple\u001b[0m\u001b[0;34m)\u001b[0m\u001b[0;34m:\u001b[0m\u001b[0;34m\u001b[0m\u001b[0m\n\u001b[1;32m    382\u001b[0m         \u001b[0margs\u001b[0m \u001b[0;34m=\u001b[0m \u001b[0;34m(\u001b[0m\u001b[0margs\u001b[0m\u001b[0;34m,\u001b[0m\u001b[0;34m)\u001b[0m\u001b[0;34m\u001b[0m\u001b[0m\n\u001b[0;32m--> 383\u001b[0;31m     \u001b[0mshape\u001b[0m\u001b[0;34m,\u001b[0m \u001b[0mdtype\u001b[0m \u001b[0;34m=\u001b[0m \u001b[0m_check_func\u001b[0m\u001b[0;34m(\u001b[0m\u001b[0;34m'leastsq'\u001b[0m\u001b[0;34m,\u001b[0m \u001b[0;34m'func'\u001b[0m\u001b[0;34m,\u001b[0m \u001b[0mfunc\u001b[0m\u001b[0;34m,\u001b[0m \u001b[0mx0\u001b[0m\u001b[0;34m,\u001b[0m \u001b[0margs\u001b[0m\u001b[0;34m,\u001b[0m \u001b[0mn\u001b[0m\u001b[0;34m)\u001b[0m\u001b[0;34m\u001b[0m\u001b[0m\n\u001b[0m\u001b[1;32m    384\u001b[0m     \u001b[0mm\u001b[0m \u001b[0;34m=\u001b[0m \u001b[0mshape\u001b[0m\u001b[0;34m[\u001b[0m\u001b[0;36m0\u001b[0m\u001b[0;34m]\u001b[0m\u001b[0;34m\u001b[0m\u001b[0m\n\u001b[1;32m    385\u001b[0m     \u001b[0;32mif\u001b[0m \u001b[0mn\u001b[0m \u001b[0;34m>\u001b[0m \u001b[0mm\u001b[0m\u001b[0;34m:\u001b[0m\u001b[0;34m\u001b[0m\u001b[0m\n",
      "\u001b[0;32m~/.pyenv/versions/anaconda3-5.2.0/lib/python3.6/site-packages/scipy/optimize/minpack.py\u001b[0m in \u001b[0;36m_check_func\u001b[0;34m(checker, argname, thefunc, x0, args, numinputs, output_shape)\u001b[0m\n\u001b[1;32m     25\u001b[0m def _check_func(checker, argname, thefunc, x0, args, numinputs,\n\u001b[1;32m     26\u001b[0m                 output_shape=None):\n\u001b[0;32m---> 27\u001b[0;31m     \u001b[0mres\u001b[0m \u001b[0;34m=\u001b[0m \u001b[0matleast_1d\u001b[0m\u001b[0;34m(\u001b[0m\u001b[0mthefunc\u001b[0m\u001b[0;34m(\u001b[0m\u001b[0;34m*\u001b[0m\u001b[0;34m(\u001b[0m\u001b[0;34m(\u001b[0m\u001b[0mx0\u001b[0m\u001b[0;34m[\u001b[0m\u001b[0;34m:\u001b[0m\u001b[0mnuminputs\u001b[0m\u001b[0;34m]\u001b[0m\u001b[0;34m,\u001b[0m\u001b[0;34m)\u001b[0m \u001b[0;34m+\u001b[0m \u001b[0margs\u001b[0m\u001b[0;34m)\u001b[0m\u001b[0;34m)\u001b[0m\u001b[0;34m)\u001b[0m\u001b[0;34m\u001b[0m\u001b[0m\n\u001b[0m\u001b[1;32m     28\u001b[0m     \u001b[0;32mif\u001b[0m \u001b[0;34m(\u001b[0m\u001b[0moutput_shape\u001b[0m \u001b[0;32mis\u001b[0m \u001b[0;32mnot\u001b[0m \u001b[0;32mNone\u001b[0m\u001b[0;34m)\u001b[0m \u001b[0;32mand\u001b[0m \u001b[0;34m(\u001b[0m\u001b[0mshape\u001b[0m\u001b[0;34m(\u001b[0m\u001b[0mres\u001b[0m\u001b[0;34m)\u001b[0m \u001b[0;34m!=\u001b[0m \u001b[0moutput_shape\u001b[0m\u001b[0;34m)\u001b[0m\u001b[0;34m:\u001b[0m\u001b[0;34m\u001b[0m\u001b[0m\n\u001b[1;32m     29\u001b[0m         \u001b[0;32mif\u001b[0m \u001b[0;34m(\u001b[0m\u001b[0moutput_shape\u001b[0m\u001b[0;34m[\u001b[0m\u001b[0;36m0\u001b[0m\u001b[0;34m]\u001b[0m \u001b[0;34m!=\u001b[0m \u001b[0;36m1\u001b[0m\u001b[0;34m)\u001b[0m\u001b[0;34m:\u001b[0m\u001b[0;34m\u001b[0m\u001b[0m\n",
      "\u001b[0;32m~/.pyenv/versions/anaconda3-5.2.0/lib/python3.6/site-packages/scipy/optimize/minpack.py\u001b[0m in \u001b[0;36mfunc_wrapped\u001b[0;34m(params)\u001b[0m\n\u001b[1;32m    461\u001b[0m     \u001b[0;32mif\u001b[0m \u001b[0mtransform\u001b[0m \u001b[0;32mis\u001b[0m \u001b[0;32mNone\u001b[0m\u001b[0;34m:\u001b[0m\u001b[0;34m\u001b[0m\u001b[0m\n\u001b[1;32m    462\u001b[0m         \u001b[0;32mdef\u001b[0m \u001b[0mfunc_wrapped\u001b[0m\u001b[0;34m(\u001b[0m\u001b[0mparams\u001b[0m\u001b[0;34m)\u001b[0m\u001b[0;34m:\u001b[0m\u001b[0;34m\u001b[0m\u001b[0m\n\u001b[0;32m--> 463\u001b[0;31m             \u001b[0;32mreturn\u001b[0m \u001b[0mfunc\u001b[0m\u001b[0;34m(\u001b[0m\u001b[0mxdata\u001b[0m\u001b[0;34m,\u001b[0m \u001b[0;34m*\u001b[0m\u001b[0mparams\u001b[0m\u001b[0;34m)\u001b[0m \u001b[0;34m-\u001b[0m \u001b[0mydata\u001b[0m\u001b[0;34m\u001b[0m\u001b[0m\n\u001b[0m\u001b[1;32m    464\u001b[0m     \u001b[0;32melif\u001b[0m \u001b[0mtransform\u001b[0m\u001b[0;34m.\u001b[0m\u001b[0mndim\u001b[0m \u001b[0;34m==\u001b[0m \u001b[0;36m1\u001b[0m\u001b[0;34m:\u001b[0m\u001b[0;34m\u001b[0m\u001b[0m\n\u001b[1;32m    465\u001b[0m         \u001b[0;32mdef\u001b[0m \u001b[0mfunc_wrapped\u001b[0m\u001b[0;34m(\u001b[0m\u001b[0mparams\u001b[0m\u001b[0;34m)\u001b[0m\u001b[0;34m:\u001b[0m\u001b[0;34m\u001b[0m\u001b[0m\n",
      "\u001b[0;31mTypeError\u001b[0m: func() missing 5 required positional arguments: 'c', 'd', 'e', 'f', and 'g'"
     ]
    }
   ],
   "source": [
    "import numpy as np\n",
    "import matplotlib.pyplot as plt\n",
    "import matplotlib.animation as animation\n",
    "import scipy.optimize\n",
    "%pylab inline --no-import-all\n",
    "Mlog=[0,-0.03,-0.11,-0.16,-0.33,-0.41,-0.67,-1.0]\n",
    "Llog=[0,-0.1,-0.4,-0.8,-1.2,-1.5,-2.1,-3.1]\n",
    "M=np.exp(Mlog)\n",
    "L=np.exp(Llog)\n",
    "print(M)\n",
    "print(L)\n",
    "x=np.array([0.1,0.2,0.3,0.4,0.5,0.6,0.7,0.8,0.9,1.0])\n",
    "print(x)\n",
    "parameter_initial = np.array([0,0])\n",
    "#def func(x, a, b):\n",
    "#    return a + b*x\n",
    "\n",
    "#def nonlinear_fit(x,a,b):\n",
    "#    return  b * np.exp(x / (a+x)  )\n",
    "\n",
    "def nonlinear_fit(x,a,b):\n",
    "    return  b * np.exp(x)\n",
    "#param, cov = curve_fit(nonlinear_fit, array_x, array_y)\n",
    "\n",
    "paramater_optimal1, covariance = scipy.optimize.curve_fit(func, M[:4], L[:4], p0=parameter_initial)\n",
    "paramater_optimal2, covariance = scipy.optimize.curve_fit(func, M[4:], L[4:], p0=parameter_initial)\n",
    "print (\"paramater =\", paramater_optimal1)\n",
    "print (\"paramater =\", paramater_optimal2)\n",
    "y1 = func(x,paramater_optimal1[0],paramater_optimal1[1])\n",
    "y2 = func(x,paramater_optimal2[0],paramater_optimal2[1])\n",
    "\n",
    "#plt.xscale('log')\n",
    "#plt.yscale('log')\n",
    "plt.plot(M, L, 'o')\n",
    "plt.plot(x, y1, '-')\n",
    "plt.plot(x, y2, '-')\n",
    "\n",
    "plt.show()\n",
    "print(x)\n",
    "print(y1)\n",
    "print(y2)"
   ]
  },
  {
   "cell_type": "code",
   "execution_count": null,
   "metadata": {},
   "outputs": [],
   "source": [
    "import numpy as np\n",
    "import matplotlib.pyplot as plt\n",
    "import matplotlib.animation as animation\n",
    "import scipy.optimize\n",
    "%pylab inline --no-import-all\n",
    "Mlog=[0,-0.03,-0.11,-0.16,-0.33,-0.41,-0.67,-1.0]\n",
    "Llog=[0,-0.1,-0.4,-0.8,-1.2,-1.5,-2.1,-3.1]\n",
    "M=np.exp(Mlog)\n",
    "L=np.exp(Llog)\n",
    "print(M)\n",
    "print(L)\n",
    "#x=np.array([0.1,0.2,0.3,0.4,0.5,0.6,0.7,0.8,0.9,1.0])\n",
    "x=np.linspace(0.1,1,1001)\n",
    "print(x)\n",
    "parameter_initial = np.array([0,0])\n",
    "#def func(x, a, b):\n",
    "#    return a + b*x\n",
    "\n",
    "def nonlinear_fit(x,a,b):\n",
    "    return  b * np.exp(x / (a+x)  )\n",
    "\n",
    "#def func(x,a,b):\n",
    "#    return  b * np.exp(x)+a\n",
    "#param, cov = curve_fit(nonlinear_fit, array_x, array_y)\n",
    "j=4\n",
    "paramater_optimal1, covariance = scipy.optimize.curve_fit(func, M[:j], L[:j], p0=parameter_initial)\n",
    "paramater_optimal2, covariance = scipy.optimize.curve_fit(func, M[j:], L[j:], p0=parameter_initial)\n",
    "print (\"paramater =\", paramater_optimal1)\n",
    "print (\"paramater =\", paramater_optimal2)\n",
    "y1 = func(x,paramater_optimal1[0],paramater_optimal1[1])\n",
    "y2 = func(x,paramater_optimal2[0],paramater_optimal2[1])\n",
    "\n",
    "plt.xscale('log')\n",
    "plt.yscale('log')\n",
    "plt.plot(M, L, 'o')\n",
    "plt.plot(x, y1, '-')\n",
    "plt.plot(x, y2, '-')\n",
    "\n",
    "plt.show()\n",
    "print(x)\n",
    "print(y1)\n",
    "print(y2)"
   ]
  },
  {
   "cell_type": "code",
   "execution_count": 11,
   "metadata": {},
   "outputs": [
    {
     "name": "stdout",
     "output_type": "stream",
     "text": [
      "Populating the interactive namespace from numpy and matplotlib\n",
      "[1.         0.97044553 0.89583414 0.85214379 0.71892373 0.66365025\n",
      " 0.51170858 0.36787944 0.         0.         0.        ]\n",
      "[1.         0.90483742 0.67032005 0.44932896 0.30119421 0.22313016\n",
      " 0.12245643 0.0450492  0.         0.         0.        ]\n",
      "[1.  0.9 0.8 0.7 0.6 0.5 0.4 0.3 0.2 0.1]\n",
      "paramater = [-2.87711849  1.43161455]\n",
      "paramater = [-0.2701587   0.25556219]\n"
     ]
    },
    {
     "data": {
      "image/png": "[encoded data removed]",
      "text/plain": [
       "<Figure size 432x288 with 1 Axes>"
      ]
     },
     "metadata": {},
     "output_type": "display_data"
    },
    {
     "name": "stdout",
     "output_type": "stream",
     "text": [
      "[1.         1.57496783 3.2829093 ]\n",
      "[ 4.14926324  5.18865656  6.7094327   9.13102059 13.55910682 24.16094696\n",
      " 82.59889525]\n",
      "[ 1.          1.57496783  3.2829093   4.14926324  5.18865656  6.7094327\n",
      "  9.13102059 13.55910682 24.16094696 82.59889525]\n",
      "[82.59889525 24.16094696 13.55910682  9.13102059  6.7094327   5.18865656\n",
      "  4.14926324  3.2829093   1.57496783  1.        ]\n"
     ]
    }
   ],
   "source": [
    "import numpy as np\n",
    "import matplotlib.pyplot as plt\n",
    "import matplotlib.animation as animation\n",
    "import scipy.optimize\n",
    "%pylab inline --no-import-all\n",
    "Mlog=[0,-0.03,-0.11,-0.16,-0.33,-0.41,-0.67,-1.0,-10**9,-10**9,-10**10]\n",
    "Llog=[0,-0.1,-0.4,-0.8,-1.2,-1.5,-2.1,-3.1,-10**5,-10**6,-10**7]\n",
    "M=np.exp(Mlog)\n",
    "L=np.exp(Llog)\n",
    "print(M)\n",
    "print(L)\n",
    "#x=np.array([0.1,0.2,0.3,0.4,0.5,0.6,0.7,0.8,0.9,1.0])\n",
    "X=np.linspace(1,0.1,10)\n",
    "print(X)\n",
    "parameter_initial = np.array([0,0])\n",
    "#def func(x, a, b):\n",
    "#    return a + b*x\n",
    "\n",
    "#def nonlinear_fit(x,a,b):\n",
    "#    return  b * np.exp(x / (a+x)  )\n",
    "\n",
    "def func(x,a,b):\n",
    "    return  b * np.exp(x)+a\n",
    "#param, cov = curve_fit(nonlinear_fit, array_x, array_y)\n",
    "j=4\n",
    "paramater_optimal1, covariance = scipy.optimize.curve_fit(func, M[:j], L[:j], p0=parameter_initial)\n",
    "paramater_optimal2, covariance = scipy.optimize.curve_fit(func, M[j:], L[j:], p0=parameter_initial)\n",
    "print (\"paramater =\", paramater_optimal1)\n",
    "print (\"paramater =\", paramater_optimal2)\n",
    "#y1 = func(X,paramater_optimal1[0],paramater_optimal1[1],paramater_optimal1[2])\n",
    "#y2 = func(X,paramater_optimal2[0],paramater_optimal2[1],paramater_optimal2[2])\n",
    "\n",
    "y1 = func(X,paramater_optimal1[0],paramater_optimal1[1])\n",
    "y2 = func(X,paramater_optimal2[0],paramater_optimal2[1])\n",
    "\n",
    "\n",
    "\n",
    "#plt.xscale('log')\n",
    "#plt.yscale('log')\n",
    "plt.plot(M, L, 'o')\n",
    "plt.plot(X, y1, '-')\n",
    "plt.plot(X, y2, '-')\n",
    "\n",
    "plt.show()\n",
    "k=3\n",
    "#print(X)\n",
    "#print(y1)\n",
    "print(y1[0]/y1[:k])\n",
    "print(y1[0]/y2[k:])\n",
    "Y1=y1[0]/y1[:k]\n",
    "Y2=y1[0]/y2[k:]\n",
    "rrnorm=np.concatenate([Y1,Y2])\n",
    "print(rrnorm)\n",
    "rnorm =rrnorm[::-1]\n",
    "print (rnorm)"
   ]
  },
  {
   "cell_type": "code",
   "execution_count": 12,
   "metadata": {},
   "outputs": [
    {
     "name": "stdout",
     "output_type": "stream",
     "text": [
      "start!\n",
      "[0.1 0.2 0.3 0.4 0.5 0.6 0.7 0.8 0.9 1.  1.1 1.2 1.3 1.4 1.5 1.6 1.7 1.8\n",
      " 1.9 2. ]\n",
      "[0. 0. 0. 0. 0. 0. 0. 0. 0. 0. 0. 0. 0. 0. 0. 0. 0. 0. 0. 0.]\n",
      "34.48275862068965 0.1\n",
      "8.620689655172413 0.2\n",
      "3.831417624521072 0.30000000000000004\n",
      "2.155172413793103 0.4\n",
      "1.3793103448275863 0.5\n",
      "0.9578544061302682 0.6\n",
      "0.7037297677691767 0.7\n",
      "0.5387931034482759 0.7999999999999999\n",
      "0.42571306939123027 0.9\n",
      "0.3448275862068966 1.0\n",
      "0.28498147620404674 1.1\n",
      "0.239463601532567 1.2000000000000002\n",
      "0.2040399918384003 1.3\n",
      "0.17593244194229413 1.4000000000000001\n",
      "0.15325670498084293 1.5\n",
      "0.13469827586206895 1.6\n",
      "0.11931750387781885 1.7000000000000002\n",
      "0.10642826734780757 1.8\n",
      "0.09552010698251981 1.9000000000000001\n",
      "0.08620689655172414 2.0\n",
      "[34.48275862  8.62068966  3.83141762  2.15517241  1.37931034  0.95785441\n",
      "  0.70372977  0.5387931   0.42571307  0.34482759]\n"
     ]
    }
   ],
   "source": [
    "%matplotlib nbagg\n",
    "#%matplotlib inline\n",
    "import numpy as np\n",
    "import matplotlib.pyplot as plt\n",
    "import matplotlib.animation as animation\n",
    "print(\"start!\")\n",
    "\n",
    "Mnorm=np.arange(20)\n",
    "Mnorm=Mnorm/10+0.1\n",
    "y=np.zeros(20)\n",
    "print(Mnorm)\n",
    "print(y)\n",
    "rnorm=np.zeros(20)\n",
    "for i in range(20):\n",
    "    y[i]=((Mnorm[i]**(4/2))*2.9)\n",
    "    rnorm[i]=1/((Mnorm[i]**(4/2))*2.9)\n",
    "    print(rnorm[i],Mnorm[i])\n",
    "print(rnorm[:10])"
   ]
  },
  {
   "cell_type": "code",
   "execution_count": 13,
   "metadata": {},
   "outputs": [
    {
     "name": "stdout",
     "output_type": "stream",
     "text": [
      "Populating the interactive namespace from numpy and matplotlib\n",
      "[1.         0.97044553 0.89583414 0.85214379 0.71892373 0.66365025\n",
      " 0.51170858 0.36787944 0.         0.         0.        ]\n",
      "[1.         0.90483742 0.67032005 0.44932896 0.30119421 0.22313016\n",
      " 0.12245643 0.0450492  0.         0.         0.        ]\n",
      "[1.  0.9 0.8 0.7 0.6 0.5 0.4 0.3 0.2 0.1]\n",
      "paramater = [-2.87711849  1.43161455]\n",
      "paramater = [-0.2701587   0.25556219]\n"
     ]
    },
    {
     "data": {
      "image/png": "[encoded data removed]",
      "text/plain": [
       "<Figure size 432x288 with 1 Axes>"
      ]
     },
     "metadata": {},
     "output_type": "display_data"
    },
    {
     "name": "stdout",
     "output_type": "stream",
     "text": [
      "[1.         1.57496783 3.2829093 ]\n",
      "[ 4.14926324  5.18865656  6.7094327   9.13102059 13.55910682 24.16094696\n",
      " 82.59889525]\n",
      "[ 1.          1.57496783  3.2829093   4.14926324  5.18865656  6.7094327\n",
      "  9.13102059 13.55910682 24.16094696 82.59889525]\n",
      "[28.48237767  8.33136102  4.67555408  3.14862779  2.31359748  1.78919192\n",
      "  1.43078043  1.13203769  0.54309236  0.34482759]\n"
     ]
    },
    {
     "data": {
      "image/png": "[encoded data removed]",
      "text/plain": [
       "<Figure size 432x288 with 1 Axes>"
      ]
     },
     "metadata": {},
     "output_type": "display_data"
    }
   ],
   "source": [
    "import numpy as np\n",
    "import matplotlib.pyplot as plt\n",
    "import matplotlib.animation as animation\n",
    "import scipy.optimize\n",
    "%pylab inline --no-import-all\n",
    "Mlog=[0,-0.03,-0.11,-0.16,-0.33,-0.41,-0.67,-1.0,-10**9,-10**9,-10**10]\n",
    "Llog=[0,-0.1,-0.4,-0.8,-1.2,-1.5,-2.1,-3.1,-10**5,-10**6,-10**7]\n",
    "M=np.exp(Mlog)\n",
    "L=np.exp(Llog)\n",
    "print(M)\n",
    "print(L)\n",
    "X=np.linspace(1,0.1,10)\n",
    "print(X)\n",
    "parameter_initial = np.array([0,0])\n",
    "\n",
    "def func(x,a,b):\n",
    "    return  b * np.exp(x)+a\n",
    "j=4\n",
    "paramater_optimal1, covariance = scipy.optimize.curve_fit(func, M[:j], L[:j], p0=parameter_initial)\n",
    "paramater_optimal2, covariance = scipy.optimize.curve_fit(func, M[j:], L[j:], p0=parameter_initial)\n",
    "print (\"paramater =\", paramater_optimal1)\n",
    "print (\"paramater =\", paramater_optimal2)\n",
    "\n",
    "y1 = func(X,paramater_optimal1[0],paramater_optimal1[1])\n",
    "y2 = func(X,paramater_optimal2[0],paramater_optimal2[1])\n",
    "#plt.xscale('log')\n",
    "#plt.yscale('log')\n",
    "plt.plot(M, L, 'o')\n",
    "plt.plot(X, y1, '-')\n",
    "plt.plot(X, y2, '-')\n",
    "\n",
    "plt.show()\n",
    "k=3\n",
    "#print(X)\n",
    "#print(y1)\n",
    "print(y1[0]/y1[:k])\n",
    "print(y1[0]/y2[k:])\n",
    "Y1=y1[0]/y1[:k]\n",
    "Y2=y1[0]/y2[k:]\n",
    "rrnorm=np.concatenate([Y1,Y2])\n",
    "print(rrnorm)\n",
    "rnorm =rrnorm[::-1]/2.9\n",
    "print (rnorm)\n",
    "Xr=X[::-1]\n",
    "#plt.xscale('log')\n",
    "#plt.yscale('log')\n",
    "plt.plot(Xr, 1/rnorm, '-')\n",
    "\n",
    "plt.show()"
   ]
  },
  {
   "cell_type": "code",
   "execution_count": 14,
   "metadata": {},
   "outputs": [
    {
     "name": "stdout",
     "output_type": "stream",
     "text": [
      "[28.48237767  8.33136102  4.67555408  3.14862779  2.31359748  1.78919192\n",
      "  1.43078043  1.13203769  0.54309236  0.34482759]\n"
     ]
    }
   ],
   "source": [
    "import numpy as np\n",
    "import scipy.optimize\n",
    "Mlog=[0,-0.03,-0.11,-0.16,-0.33,-0.41,-0.67,-1.0,-10**9,-10**9,-10**10]\n",
    "Llog=[0,-0.1,-0.4,-0.8,-1.2,-1.5,-2.1,-3.1,-10**5,-10**6,-10**7]\n",
    "M=np.exp(Mlog)\n",
    "L=np.exp(Llog)\n",
    "X=np.linspace(1,0.1,10)\n",
    "parameter_initial = np.array([0,0])\n",
    "def func(x,a,b):\n",
    "    return  b * np.exp(x)+a\n",
    "j=4\n",
    "paramater_optimal1, covariance = scipy.optimize.curve_fit(func, M[:j], L[:j], p0=parameter_initial)\n",
    "paramater_optimal2, covariance = scipy.optimize.curve_fit(func, M[j:], L[j:], p0=parameter_initial)\n",
    "y1 = func(X,paramater_optimal1[0],paramater_optimal1[1])\n",
    "y2 = func(X,paramater_optimal2[0],paramater_optimal2[1])\n",
    "k=3\n",
    "Y1=y1[0]/y1[:k]\n",
    "Y2=y1[0]/y2[k:]\n",
    "rrnorm=np.concatenate([Y1,Y2])\n",
    "rnorm =rrnorm[::-1]/2.9\n",
    "print (rnorm)"
   ]
  },
  {
   "cell_type": "code",
   "execution_count": 15,
   "metadata": {},
   "outputs": [
    {
     "name": "stdout",
     "output_type": "stream",
     "text": [
      "[34.48275862  8.62068966  3.83141762  2.15517241  1.37931034  0.95785441\n",
      "  0.70372977  0.5387931   0.42571307  0.34482759]\n"
     ]
    }
   ],
   "source": [
    "%matplotlib nbagg\n",
    "#%matplotlib inline\n",
    "import numpy as np\n",
    "import matplotlib.pyplot as plt\n",
    "import matplotlib.animation as animation\n",
    "Mnorm=np.arange(20)\n",
    "Mnorm=Mnorm/10+0.1\n",
    "y=np.zeros(20)\n",
    "rnormold=np.zeros(20)\n",
    "for i in range(20):\n",
    "    y[i]=((Mnorm[i]**(4/2))*2.9)\n",
    "    rnormold[i]=1/((Mnorm[i]**(4/2))*2.9)\n",
    "print(rnormold[:10])"
   ]
  },
  {
   "cell_type": "code",
   "execution_count": 16,
   "metadata": {},
   "outputs": [
    {
     "name": "stdout",
     "output_type": "stream",
     "text": [
      "Populating the interactive namespace from numpy and matplotlib\n",
      "[1.  0.9 0.8 0.7 0.6 0.5 0.4 0.3 0.2 0.1]\n",
      "[0.03510943 0.12002841 0.21387839 0.31759867 0.4322273  0.55891153\n",
      " 0.69891926 0.88336281 1.84130745 2.9       ]\n",
      "[0.029 0.116 0.261 0.464 0.725 1.044 1.421 1.856 2.349 2.9  ]\n"
     ]
    },
    {
     "data": {
      "text/plain": [
       "<function matplotlib.pyplot.show(*args, **kw)>"
      ]
     },
     "execution_count": 16,
     "metadata": {},
     "output_type": "execute_result"
    },
    {
     "data": {
      "image/png": "[encoded data removed]",
      "text/plain": [
       "<Figure size 432x288 with 1 Axes>"
      ]
     },
     "metadata": {},
     "output_type": "display_data"
    }
   ],
   "source": [
    "import matplotlib.pyplot as plt\n",
    "%pylab inline --no-import-all\n",
    "Xr=X[::-1]\n",
    "print(X)\n",
    "print(1/rnorm)\n",
    "print(1/rnormold[:10])\n",
    "\n",
    "\n",
    "#plt.xscale('log')\n",
    "#plt.yscale('log')\n",
    "plt.plot(Xr, 1/rnorm)\n",
    "plt.plot(Xr, 1/rnormold[:10])\n",
    "plt.show"
   ]
  },
  {
   "cell_type": "code",
   "execution_count": 17,
   "metadata": {},
   "outputs": [
    {
     "name": "stdout",
     "output_type": "stream",
     "text": [
      "Populating the interactive namespace from numpy and matplotlib\n",
      "[1.  0.9 0.8 0.7 0.6 0.5 0.4 0.3 0.2 0.1]\n",
      "[0.03510943 0.12002841 0.21387839 0.31759867 0.4322273  0.55891153\n",
      " 0.69891926 0.88336281 1.84130745 2.9       ]\n",
      "[0.029 0.116 0.261 0.464 0.725 1.044 1.421 1.856 2.349 2.9  ]\n"
     ]
    },
    {
     "data": {
      "text/plain": [
       "<function matplotlib.pyplot.show(*args, **kw)>"
      ]
     },
     "execution_count": 17,
     "metadata": {},
     "output_type": "execute_result"
    },
    {
     "data": {
      "image/png": "[encoded data removed]",
      "text/plain": [
       "<Figure size 432x288 with 1 Axes>"
      ]
     },
     "metadata": {},
     "output_type": "display_data"
    }
   ],
   "source": [
    "import matplotlib.pyplot as plt\n",
    "%pylab inline --no-import-all\n",
    "Xr=X[::-1]\n",
    "print(X)\n",
    "print(1/rnorm)\n",
    "print(1/rnormold[:10])\n",
    "\n",
    "\n",
    "plt.xscale('log')\n",
    "plt.yscale('log')\n",
    "plt.plot(Xr, 1/rnorm)\n",
    "plt.plot(Xr, 1/rnormold[:10])\n",
    "\n",
    "plt.show"
   ]
  },
  {
   "cell_type": "code",
   "execution_count": 18,
   "metadata": {},
   "outputs": [
    {
     "name": "stdout",
     "output_type": "stream",
     "text": [
      "[239.53679623  70.0667462   39.32140979  26.47995971  19.45735482\n",
      "  15.04710403  12.03286339   9.52043697   4.56740671   2.9       ]\n",
      "[28.48237767  8.33136102  4.67555408  3.14862779  2.31359748  1.78919192\n",
      "  1.43078043  1.13203769  0.54309236  0.34482759]\n"
     ]
    }
   ],
   "source": [
    "import numpy as np\n",
    "import scipy.optimize\n",
    "Mlog=[0,-0.03,-0.11,-0.16,-0.33,-0.41,-0.67,-1.0,-10**9,-10**9,-10**10]\n",
    "Llog=[0,-0.1,-0.4,-0.8,-1.2,-1.5,-2.1,-3.1,-10**5,-10**6,-10**7]\n",
    "M=np.exp(Mlog)\n",
    "L=np.exp(Llog)\n",
    "X=np.linspace(1,0.1,10)\n",
    "parameter_initial = np.array([0,0])\n",
    "def func(x,a,b):\n",
    "    return  b * np.exp(x)+a\n",
    "j=4\n",
    "paramater_optimal1, covariance = scipy.optimize.curve_fit(func, M[:j], L[:j], p0=parameter_initial)\n",
    "paramater_optimal2, covariance = scipy.optimize.curve_fit(func, M[j:], L[j:], p0=parameter_initial)\n",
    "y1 = func(X,paramater_optimal1[0],paramater_optimal1[1])\n",
    "y2 = func(X,paramater_optimal2[0],paramater_optimal2[1])\n",
    "k=3\n",
    "Y1=y1[0]/y1[:k]\n",
    "Y2=y1[0]/y2[k:]\n",
    "rrnorm=np.concatenate([Y1,Y2])\n",
    "print(rrnorm[::-1]*2.9)\n",
    "rnorm =rrnorm[::-1]/2.9\n",
    "print (rnorm)\n",
    "\n"
   ]
  }
 ],
 "metadata": {
  "kernelspec": {
   "display_name": "Python 3",
   "language": "python",
   "name": "python3"
  },
  "language_info": {
   "codemirror_mode": {
    "name": "ipython",
    "version": 3
   },
   "file_extension": ".py",
   "mimetype": "text/x-python",
   "name": "python",
   "nbconvert_exporter": "python",
   "pygments_lexer": "ipython3",
   "version": "3.6.5"
  }
 },
 "nbformat": 4,
 "nbformat_minor": 2
}
